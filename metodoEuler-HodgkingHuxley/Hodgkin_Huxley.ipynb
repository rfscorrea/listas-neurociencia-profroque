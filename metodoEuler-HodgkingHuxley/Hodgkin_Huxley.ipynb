{
 "cells": [
  {
   "cell_type": "code",
   "execution_count": null,
   "metadata": {
    "collapsed": true
   },
   "outputs": [],
   "source": [
    "import numpy as np\n",
    "\n",
    "class Hodgkin_Huxley:\n",
    "    def __init__(self, cm=1, gna=120, ena=115, gk=36, ek=-12, gv=0.3, ev=10.6):\n",
    "        self.cm = cm\n",
    "        self.gna = gna\n",
    "        self.ena = ena\n",
    "        self.gk = gk\n",
    "        self.ek = ek\n",
    "        self.gv = gv\n",
    "        self.ev = ev\n",
    "\n",
    "\n",
    "    def __call__(self, t, u):\n",
    "        V, n, m, h = u\n",
    "\n",
    "        #valores para alfa e beta\n",
    "        if V == 10:\n",
    "             alphan = 1 / (10 * np.exp((10-V)/10)) #regra de L’Hopital\n",
    "        else:\n",
    "             alphan = 0.01 * (10 - V) / (np.exp((10-V) / 10) - 1)\n",
    "\n",
    "        if V == 25:\n",
    "             alpham = 1 / 10 * np.exp((25-V)/10) #regra de L’Hopital\n",
    "        else:\n",
    "             alpham = 0.1 * (25 - V) / (np.exp((25-V) / 10) - 1)\n",
    "\n",
    "        alphah = 0.07 * np.exp(-V/20)\n",
    "        betan = 0.125 * np.exp(-V/80)\n",
    "        betam = 4 * np.exp(-V/18)\n",
    "        betah = 1 / (np.exp((30-V)/10) + 1)\n",
    "\n",
    "        #valores das derivadas\n",
    "        dV = (-self.gna * pow(m, 3) * h * (V - self.ena)) - (self.gk * pow(n, 4) * (V - self.ek)) - (self.gv * (V - self.ev))\n",
    "        dn = (alphan * (1-n)) - (betan * n)\n",
    "        dm = (alpham * (1-m)) - (betam * m)\n",
    "        dh = (alphah * (1-h)) - (betah * h)\n",
    "        return [dV, dn, dm, dh]"
   ]
  }
 ],
 "metadata": {
  "kernelspec": {
   "display_name": "Python 3",
   "language": "python",
   "name": "python3"
  },
  "language_info": {
   "codemirror_mode": {
    "name": "ipython",
    "version": 2
   },
   "file_extension": ".py",
   "mimetype": "text/x-python",
   "name": "python",
   "nbconvert_exporter": "python",
   "pygments_lexer": "ipython2",
   "version": "2.7.6"
  }
 },
 "nbformat": 4,
 "nbformat_minor": 0
}
