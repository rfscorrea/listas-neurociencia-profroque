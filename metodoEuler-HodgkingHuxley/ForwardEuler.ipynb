{
 "cells": [
  {
   "cell_type": "code",
   "execution_count": 2,
   "outputs": [],
   "source": [
    "import numpy as np\n",
    "\n",
    "class ForwardEuler:\n",
    "    def __init__(self, f):\n",
    "        self.f = lambda t, u: np.asarray(f(t, u), float)\n",
    "\n",
    "    def set_initial_condition(self,u0):\n",
    "        if isinstance(u0, (float,int)):\n",
    "            self.neq = 1\n",
    "            u0 = float(u0)\n",
    "        else:\n",
    "            u0 = np.asarray(u0)\n",
    "            self.neq = u0.size\n",
    "\n",
    "        self.u0 = u0\n",
    "\n",
    "    def solve(self, t_span, N, J, tiJ, tfJ):\n",
    "        t0, T = t_span\n",
    "        self.dt = (T-t0)/N\n",
    "        self.t = np.zeros(N+1)\n",
    "        if self.neq == 1:\n",
    "            self.u = np.zeros(N+1)\n",
    "        else:\n",
    "            self.u = np.zeros((N+1, self.neq))\n",
    "\n",
    "        self.t[0] = t0\n",
    "        self.u[0] = self.u0\n",
    "\n",
    "        for n in range(N):\n",
    "            self.n = n\n",
    "            self.t[n+1] = self.t[n] + self.dt\n",
    "            if self.dt*n >= tiJ and self.dt*n <= tfJ:\n",
    "                self.u[n+1] = self.advance(J=J)\n",
    "            else:\n",
    "                self.u[n+1] = self.advance(J=0)\n",
    "        return self.t, self.u\n",
    "\n",
    "    def advance(self, J):\n",
    "        u, dt, f, n, t = self.u, self.dt, self.f, self.n, self.t\n",
    "        unew = u[n] + dt*(f(t[n],u[n]) + J)\n",
    "        return unew"
   ],
   "metadata": {
    "collapsed": false,
    "ExecuteTime": {
     "end_time": "2023-05-26T11:16:47.112715800Z",
     "start_time": "2023-05-26T11:16:47.086247300Z"
    }
   }
  },
  {
   "cell_type": "code",
   "execution_count": null,
   "outputs": [],
   "source": [],
   "metadata": {
    "collapsed": false
   }
  }
 ],
 "metadata": {
  "kernelspec": {
   "display_name": "Python 3",
   "language": "python",
   "name": "python3"
  },
  "language_info": {
   "codemirror_mode": {
    "name": "ipython",
    "version": 2
   },
   "file_extension": ".py",
   "mimetype": "text/x-python",
   "name": "python",
   "nbconvert_exporter": "python",
   "pygments_lexer": "ipython2",
   "version": "2.7.6"
  }
 },
 "nbformat": 4,
 "nbformat_minor": 0
}
