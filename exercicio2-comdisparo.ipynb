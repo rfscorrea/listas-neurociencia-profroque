{
 "cells": [
  {
   "cell_type": "code",
   "execution_count": 13,
   "metadata": {
    "collapsed": true,
    "ExecuteTime": {
     "end_time": "2023-05-28T15:20:03.617165100Z",
     "start_time": "2023-05-28T15:20:03.542211500Z"
    }
   },
   "outputs": [],
   "source": [
    "import numpy as np\n",
    "import matplotlib.pyplot as plt\n",
    "from scipy.integrate import odeint"
   ]
  },
  {
   "cell_type": "code",
   "execution_count": 14,
   "outputs": [],
   "source": [
    "Cm = 1\n",
    "g_Na, g_K, g_V = 120, 36, 0.3\n",
    "E_Na, E_K, E_V = 115, -12, 10.6"
   ],
   "metadata": {
    "collapsed": false,
    "ExecuteTime": {
     "end_time": "2023-05-28T15:20:03.618164600Z",
     "start_time": "2023-05-28T15:20:03.565196100Z"
    }
   }
  },
  {
   "cell_type": "code",
   "execution_count": 15,
   "outputs": [],
   "source": [
    "def alpha_n(V):\n",
    "    if V==10:\n",
    "        return 1 / (np.exp((25-V)/10) * 10) #l'hopital\n",
    "    else:\n",
    "        return 0.01 * (10-V) / (np.exp((10-V)/10) - 1)\n",
    "\n",
    "def alpha_m(V):\n",
    "    if V==25:\n",
    "        return 1 / np.exp((25-V)/10)\n",
    "    else:\n",
    "        return 0.1 * (25-V) / (np.exp((25-V)/10) - 1)   #l'hopital\n",
    "\n",
    "def beta_n(V): return 0.125*np.exp(-V/80)\n",
    "def beta_m(V): return 4*np.exp(-V/18)\n",
    "def alpha_h(V): return 0.07*np.exp(-V/20)\n",
    "def beta_h(V): return 1 / (np.exp((30-V)/10))\n",
    "\n",
    "\n",
    "def I_Na(V,m,h): return g_Na * m**3 * h * (V-E_Na)\n",
    "def I_K(V,n): return g_K * n**4 * (V-E_K)\n",
    "def I_V(V): return g_V * (V-E_V)"
   ],
   "metadata": {
    "collapsed": false,
    "ExecuteTime": {
     "end_time": "2023-05-28T15:20:03.620162800Z",
     "start_time": "2023-05-28T15:20:03.587183400Z"
    }
   }
  },
  {
   "cell_type": "code",
   "execution_count": 16,
   "outputs": [],
   "source": [
    "t = np.arange(0, 30, 0.001) #intervalo de tempo\n",
    "def J_inj(t):   #corrente injetada\n",
    "    J = 16.67\n",
    "    ti = 10\n",
    "    tf = 10.5\n",
    "    return J*(t>ti)-J*(t>tf)\n",
    "\n",
    "def dALLdt(X, t):\n",
    "    V, m, h, n = X\n",
    "    dVdt = (J_inj(t) - I_Na(V,m,h) - I_K(V, n) - I_V(V)) / Cm\n",
    "    dndt = alpha_n(V) * (1-n) - beta_n(V) * n\n",
    "    dmdt = alpha_m(V) * (1-m) - beta_m(V) * m\n",
    "    dhdt = alpha_h(V) * (1-h) - beta_h(V) * h\n",
    "    return dVdt, dmdt, dhdt, dndt"
   ],
   "metadata": {
    "collapsed": false,
    "ExecuteTime": {
     "end_time": "2023-05-28T15:20:03.644147800Z",
     "start_time": "2023-05-28T15:20:03.613168700Z"
    }
   }
  },
  {
   "cell_type": "code",
   "execution_count": 17,
   "outputs": [],
   "source": [
    "X = odeint(dALLdt, [0, 0.32, 0.05, 0.6], t)\n",
    "V = X[:,0]\n",
    "m = X[:,1]\n",
    "h = X[:,2]\n",
    "n = X[:,3]"
   ],
   "metadata": {
    "collapsed": false,
    "ExecuteTime": {
     "end_time": "2023-05-28T15:20:03.765074600Z",
     "start_time": "2023-05-28T15:20:03.645147400Z"
    }
   }
  },
  {
   "cell_type": "code",
   "execution_count": 18,
   "outputs": [
    {
     "data": {
      "text/plain": "<Figure size 640x480 with 1 Axes>",
      "image/png": "[encoded data removed]"
     },
     "metadata": {},
     "output_type": "display_data"
    }
   ],
   "source": [
    "plt.subplot(2,1,1)\n",
    "plt.title('Um disparo para J=16.67')\n",
    "plt.plot(t, V, 'k')\n",
    "plt.ylabel('V(mv)')\n",
    "plt.xlabel('t(ms)')\n",
    "plt.grid()\n",
    "\n",
    "plt.show()"
   ],
   "metadata": {
    "collapsed": false,
    "ExecuteTime": {
     "end_time": "2023-05-28T15:20:04.085876200Z",
     "start_time": "2023-05-28T15:20:03.768073100Z"
    }
   }
  },
  {
   "cell_type": "code",
   "execution_count": 18,
   "outputs": [],
   "source": [],
   "metadata": {
    "collapsed": false,
    "ExecuteTime": {
     "end_time": "2023-05-28T15:20:04.094870500Z",
     "start_time": "2023-05-28T15:20:04.083877900Z"
    }
   }
  }
 ],
 "metadata": {
  "kernelspec": {
   "display_name": "Python 3",
   "language": "python",
   "name": "python3"
  },
  "language_info": {
   "codemirror_mode": {
    "name": "ipython",
    "version": 2
   },
   "file_extension": ".py",
   "mimetype": "text/x-python",
   "name": "python",
   "nbconvert_exporter": "python",
   "pygments_lexer": "ipython2",
   "version": "2.7.6"
  }
 },
 "nbformat": 4,
 "nbformat_minor": 0
}
