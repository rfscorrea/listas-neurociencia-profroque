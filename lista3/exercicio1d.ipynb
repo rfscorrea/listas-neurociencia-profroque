{
 "cells": [
  {
   "cell_type": "code",
   "execution_count": 33,
   "metadata": {
    "ExecuteTime": {
     "end_time": "2023-06-06T16:26:30.425066300Z",
     "start_time": "2023-06-06T16:26:28.984252Z"
    },
    "collapsed": false
   },
   "outputs": [],
   "source": [
    "import numpy as np\n",
    "import matplotlib.pyplot as plt\n",
    "from scipy.integrate import odeint"
   ]
  },
  {
   "cell_type": "code",
   "execution_count": 34,
   "metadata": {
    "ExecuteTime": {
     "end_time": "2023-06-06T16:26:30.441387700Z",
     "start_time": "2023-06-06T16:26:30.429062700Z"
    },
    "collapsed": false
   },
   "outputs": [],
   "source": [
    "Cm = 1\n",
    "g_Na, g_K, g_L, g_A = 120, 20, 0.3, 47.7\n",
    "E_Na, E_K, E_L, E_A = 55, -72, -17, -75\n",
    "\n",
    "valor_spike = 0 # valor adotado para considerar que ocorreu um potencial de acao em mV"
   ]
  },
  {
   "cell_type": "code",
   "execution_count": 35,
   "metadata": {
    "ExecuteTime": {
     "end_time": "2023-06-06T16:26:30.473366800Z",
     "start_time": "2023-06-06T16:26:30.456377900Z"
    },
    "collapsed": false
   },
   "outputs": [],
   "source": [
    "def alphan(V):\n",
    "    if V==(-45.7):\n",
    "        return 0.01/-0.1*np.exp(0.1*(V+45.7))\n",
    "    else:\n",
    "        return (0.01*(V+45.7)) / (1 - np.exp(-0.1*(V+45.7)))\n",
    "def alpham(V):\n",
    "    if V==(-29.7):\n",
    "        return 0.1/-0.1*np.exp(0.1*(V+29.7))\n",
    "    else:\n",
    "        return (0.1*(V+29.7)) / (1 - np.exp(-0.1*(V+29.7)))\n",
    "def alphah(V): return 0.07 * np.exp(-0.05*(V+48))\n",
    "\n",
    "def betan(V): return 0.125 * np.exp(-0.0125*(V+55.7))\n",
    "def betam(V): return 4 * np.exp(-0.0556*(V+54.7))\n",
    "def betah(V): return 1 / (1 + np.exp(-0.1*(V+18)))\n",
    "\n",
    "def tn(V): return 2 / (3.8*(alphan(V)+betan(V)))\n",
    "def tm(V): return 1 / (3.8*(alpham(V)+betam(V)))\n",
    "def th(V): return 1 / (3.8*(alphah(V)+betah(V)))\n",
    "def ta(V): return 0.3632 + (1.158 / (1 + np.exp(0.0497*(V+55.96))))\n",
    "def tb(V): return 1.24 + (2.678 / (1 + np.exp(0.0624*(V+50))))\n",
    "\n",
    "def ni(V): return alphan(V) / (alphan(V) + betan(V))\n",
    "def mi(V): return alpham(V) / (alpham(V) + betam(V))\n",
    "def hi(V): return alphah(V) / (alphah(V) + betah(V))\n",
    "def ai(V): return ((0.0761 * np.exp(0.0314*(V+94.22))) / (1+np.exp(0.0346*(V+1.17))))**(1/3)\n",
    "def bi(V): return (1 / (1 + np.exp(0.0688*(V+53.3))))**4"
   ]
  },
  {
   "cell_type": "code",
   "execution_count": 36,
   "metadata": {
    "ExecuteTime": {
     "end_time": "2023-06-06T16:26:30.511344900Z",
     "start_time": "2023-06-06T16:26:30.474366600Z"
    },
    "collapsed": false
   },
   "outputs": [],
   "source": [
    "t = np.arange(0, 200, 0.01) #intervalo de tempo\n",
    "j = []  # vetor para armazenar as correntes\n",
    "freq = []  # vetor para armazenar as frequencias\n",
    "\n",
    "# loop com a densidade de corrente com variando de 8 a 10\n",
    "for i in range(11):\n",
    "    J = 8 + i*0.2\n",
    "    j.append(J)\n",
    "    \n",
    "\n",
    "    def J_inj(t):   #corrente injetada\n",
    "        ti = 60\n",
    "        tf = 200\n",
    "        return J*(t>ti)-J*(t>tf)\n",
    "\n",
    "\n",
    "    def dALLdt(X,t):\n",
    "        V, n, m, h, a, b = X\n",
    "        dVdt = (J_inj(t) - g_Na * m**3 * h * (V-E_Na) - g_K * n**4 * (V - E_K) - g_L * (V-E_L) - g_A * a**3 * b * (V-E_A)) / Cm\n",
    "        dndt = (ni(V) - n) / tn(V)\n",
    "        dmdt = (mi(V) - m) / tm(V)\n",
    "        dhdt = (hi(V) - h) / th(V)\n",
    "        dadt = (ai(V) - a) / ta(V)\n",
    "        dbdt = (bi(V) - b) / tb(V)\n",
    "\n",
    "        return dVdt, dndt, dmdt, dhdt, dadt, dbdt\n",
    "\n",
    "    # solucao\n",
    "    X = odeint(dALLdt, [-67.976, 0.1558, 0.01, 0.965, 0.5404, 0.2885], t)\n",
    "    V = X[:,0]\n",
    "\n",
    "    # loop para calcular a frequencia pelo inverso da latencia entre o inicio do estimulo e o primeiro disparo\n",
    "    disparos = 0\n",
    "    for n in range(len(V)-1):\n",
    "        if V[n]<valor_spike and V[n+1]>valor_spike:\n",
    "            disparos += 1\n",
    "            latencia = t[n] - 60\n",
    "            frequencia = (1 / latencia) * 1000  # frequencia em Hz\n",
    "            break\n",
    "    if disparos >= 1: freq.append(frequencia)\n",
    "    else: freq.append(0)"
   ]
  },
  {
   "cell_type": "code",
   "execution_count": 37,
   "metadata": {
    "ExecuteTime": {
     "end_time": "2023-06-06T16:26:31.272666300Z",
     "start_time": "2023-06-06T16:26:30.982093200Z"
    },
    "collapsed": false
   },
   "outputs": [
    {
     "data": {
      "image/png": "[encoded data removed]",
      "text/plain": [
       "<Figure size 640x480 with 1 Axes>"
      ]
     },
     "metadata": {},
     "output_type": "display_data"
    }
   ],
   "source": [
    "plt.plot(j, freq, 'k')\n",
    "plt.ylabel('freq(Hz)')\n",
    "plt.xlabel('J')\n",
    "\n",
    "\n",
    "plt.show()"
   ]
  }
 ],
 "metadata": {
  "kernelspec": {
   "display_name": "Python 3",
   "language": "python",
   "name": "python3"
  },
  "language_info": {
   "codemirror_mode": {
    "name": "ipython",
    "version": 3
   },
   "file_extension": ".py",
   "mimetype": "text/x-python",
   "name": "python",
   "nbconvert_exporter": "python",
   "pygments_lexer": "ipython3",
   "version": "3.9.13"
  }
 },
 "nbformat": 4,
 "nbformat_minor": 0
}
