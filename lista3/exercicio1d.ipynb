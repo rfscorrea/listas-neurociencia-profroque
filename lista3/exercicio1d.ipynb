{
 "cells": [
  {
   "cell_type": "code",
   "execution_count": 1,
   "outputs": [],
   "source": [
    "import numpy as np\n",
    "import matplotlib.pyplot as plt\n",
    "from scipy.integrate import odeint"
   ],
   "metadata": {
    "collapsed": false,
    "ExecuteTime": {
     "end_time": "2023-06-06T16:26:30.425066300Z",
     "start_time": "2023-06-06T16:26:28.984252Z"
    }
   }
  },
  {
   "cell_type": "code",
   "execution_count": 2,
   "outputs": [],
   "source": [
    "Cm = 1\n",
    "g_Na, g_K, g_L, g_A = 120, 20, 0.3, 47.7\n",
    "E_Na, E_K, E_L, E_A = 55, -72, -17, -75"
   ],
   "metadata": {
    "collapsed": false,
    "ExecuteTime": {
     "end_time": "2023-06-06T16:26:30.441387700Z",
     "start_time": "2023-06-06T16:26:30.429062700Z"
    }
   }
  },
  {
   "cell_type": "code",
   "execution_count": 3,
   "outputs": [],
   "source": [
    "def alphan(V):\n",
    "    if V==(-45.7):\n",
    "        return 0.01/-0.1*np.exp(0.1*(V+45.7))\n",
    "    else:\n",
    "        return (0.01*(V+45.7)) / (1 - np.exp(-0.1*(V+45.7)))\n",
    "def alpham(V):\n",
    "    if V==(-29.7):\n",
    "        return 0.1/-0.1*np.exp(0.1*(V+29.7))\n",
    "    else:\n",
    "        return (0.1*(V+29.7)) / (1 - np.exp(-0.1*(V+29.7)))\n",
    "def alphah(V): return 0.07 * np.exp(-0.05*(V+48))\n",
    "\n",
    "def betan(V): return 0.125 * np.exp(-0.0125*(V+55.7))\n",
    "def betam(V): return 4 * np.exp(-0.0556*(V+54.7))\n",
    "def betah(V): return 1 / (1 + np.exp(-0.1*(V+18)))\n",
    "\n",
    "def tn(V): return 2 / (3.8*(alphan(V)+betan(V)))\n",
    "def tm(V): return 1 / (3.8*(alpham(V)+betam(V)))\n",
    "def th(V): return 1 / (3.8*(alphah(V)+betah(V)))\n",
    "def ta(V): return 0.3632 + (1.158 / (1 + np.exp(0.0497*(V+55.96))))\n",
    "def tb(V): return 1.24 + (2.678 / (1 + np.exp(0.0624*(V+50))))\n",
    "\n",
    "def ni(V): return alphan(V) / (alphan(V) + betan(V))\n",
    "def mi(V): return alpham(V) / (alpham(V) + betam(V))\n",
    "def hi(V): return alphah(V) / (alphah(V) + betah(V))\n",
    "def ai(V): return ((0.0761 * np.exp(0.0314*(V+94.22))) / (1+np.exp(0.0346*(V+1.17))))**(1/3)\n",
    "def bi(V): return (1 / (1 + np.exp(0.0688*(V+53.3))))**4"
   ],
   "metadata": {
    "collapsed": false,
    "ExecuteTime": {
     "end_time": "2023-06-06T16:26:30.473366800Z",
     "start_time": "2023-06-06T16:26:30.456377900Z"
    }
   }
  },
  {
   "cell_type": "code",
   "execution_count": 4,
   "outputs": [],
   "source": [
    "t = np.arange(0, 200, 0.01) #intervalo de tempo\n",
    "\n",
    "def J_inj(t):   #corrente injetada\n",
    "    J = 10\n",
    "    ti = 60\n",
    "    tf = 200\n",
    "    return J*(t>ti)-J*(t>tf)\n",
    "\n",
    "\n",
    "def dALLdt(X,t):\n",
    "    V, n, m, h, a, b = X\n",
    "    dVdt = (J_inj(t) - g_Na * m**3 * h * (V-E_Na) - g_K * n**4 * (V - E_K) - g_L * (V-E_L) - g_A * a**3 * b * (V-E_A)) / Cm\n",
    "    dndt = (ni(V) - n) / tn(V)\n",
    "    dmdt = (mi(V) - m) / tm(V)\n",
    "    dhdt = (hi(V) - h) / th(V)\n",
    "    dadt = (ai(V) - a) / ta(V)\n",
    "    dbdt = (bi(V) - b) / tb(V)\n",
    "\n",
    "    return dVdt, dndt, dmdt, dhdt, dadt, dbdt"
   ],
   "metadata": {
    "collapsed": false,
    "ExecuteTime": {
     "end_time": "2023-06-06T16:26:30.511344900Z",
     "start_time": "2023-06-06T16:26:30.474366600Z"
    }
   }
  },
  {
   "cell_type": "code",
   "execution_count": 5,
   "outputs": [],
   "source": [
    "X = odeint(dALLdt, [-67.976, 0.1558, 0.01, 0.965, 0.5404, 0.2885], t)\n",
    "V = X[:,0]\n",
    "n = X[:,1]\n",
    "m = X[:,2]\n",
    "h = X[:,3]\n",
    "a = X[:,4]\n",
    "b = X[:,5]"
   ],
   "metadata": {
    "collapsed": false,
    "ExecuteTime": {
     "end_time": "2023-06-06T16:26:30.960107100Z",
     "start_time": "2023-06-06T16:26:30.517341300Z"
    }
   }
  },
  {
   "cell_type": "code",
   "execution_count": 6,
   "outputs": [],
   "source": [
    "freq = [0,0,0,1000/106.25,1000/81.25,1000/68.75,1000/62.5,1000/56.25,1000/50,1000/43.75,1000/38.75]\n",
    "j = [8, 8.2, 8.4, 8.6, 8.8, 9, 9.2, 9.4, 9.6, 9.8, 10]"
   ],
   "metadata": {
    "collapsed": false,
    "ExecuteTime": {
     "end_time": "2023-06-06T16:26:30.976097800Z",
     "start_time": "2023-06-06T16:26:30.968102800Z"
    }
   }
  },
  {
   "cell_type": "code",
   "execution_count": 7,
   "outputs": [
    {
     "data": {
      "text/plain": "<Figure size 640x480 with 1 Axes>",
      "image/png": "[encoded data removed]"
     },
     "metadata": {},
     "output_type": "display_data"
    }
   ],
   "source": [
    "plt.plot(j, freq, 'k')\n",
    "plt.ylabel('freq(Hz)')\n",
    "plt.xlabel('J')\n",
    "\n",
    "plt.show()"
   ],
   "metadata": {
    "collapsed": false,
    "ExecuteTime": {
     "end_time": "2023-06-06T16:26:31.272666300Z",
     "start_time": "2023-06-06T16:26:30.982093200Z"
    }
   }
  }
 ],
 "metadata": {
  "kernelspec": {
   "display_name": "Python 3",
   "language": "python",
   "name": "python3"
  },
  "language_info": {
   "codemirror_mode": {
    "name": "ipython",
    "version": 2
   },
   "file_extension": ".py",
   "mimetype": "text/x-python",
   "name": "python",
   "nbconvert_exporter": "python",
   "pygments_lexer": "ipython2",
   "version": "2.7.6"
  }
 },
 "nbformat": 4,
 "nbformat_minor": 0
}
