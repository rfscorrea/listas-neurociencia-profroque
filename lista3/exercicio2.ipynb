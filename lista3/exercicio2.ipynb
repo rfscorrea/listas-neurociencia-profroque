{
 "cells": [
  {
   "cell_type": "code",
   "execution_count": 61,
   "metadata": {
    "collapsed": true
   },
   "outputs": [],
   "source": [
    "import matplotlib.pyplot as plt\n",
    "import numpy as np\n",
    "from scipy.integrate import odeint"
   ]
  },
  {
   "cell_type": "code",
   "execution_count": 62,
   "metadata": {
    "collapsed": false
   },
   "outputs": [],
   "source": [
    "#usando as unidades de medida do SI\n",
    "C = 100 * 10**-12\n",
    "G_L, E_L = 10 * 10**-9, -70 * 10**-3\n",
    "G_Na, E_Na = 3.6 * 10**-6, 55 * 10**-3\n",
    "G_K, E_K = 1.6 * 10**-6, -90 * 10**-3\n",
    "G_T, E_Ca = 0.22 * 10**-6, 120 * 10**-3"
   ]
  },
  {
   "cell_type": "code",
   "execution_count": 63,
   "metadata": {
    "collapsed": false
   },
   "outputs": [],
   "source": [
    "def alpham(V):\n",
    "    if V == (-0.035):\n",
    "        return 10**3 / np.exp(-100*(V+0.035))\n",
    "    else:\n",
    "        return (10**5 * (V+0.035)) / (1 - np.exp(-100*(V+0.035)))\n",
    "def alphan(V):\n",
    "    if V == (-0.034):\n",
    "        return (5 * 10**2) / np.exp(-100*(V+0.034))\n",
    "    else:\n",
    "        return (5 * 10**4 * (V+0.034)) / (1 - np.exp(-100*(V+0.034)))\n",
    "\n",
    "def alphah(V): return 350*np.exp(-50*(V+0.058))\n",
    "\n",
    "def betam(V): return 4000*np.exp(-(V+0.06)/0.018)\n",
    "def betan(V): return 625*np.exp(-12.5*(V+0.044))\n",
    "def betah(V): return 5000 / (1 + np.exp(-100*(V+0.028)))\n",
    "\n",
    "def m_i(V): return alpham(V) / (alpham(V) + betam(V))\n",
    "def m_ti(V): return 1 / (1+np.exp(-(V+0.052) / 0.0074))\n",
    "def h_ti(V): return 1 / (1+np.exp(500*(V+0.076)))\n",
    "\n",
    "def t_ht(V):\n",
    "    if V>=(-0.080):\n",
    "        return 0.028 + 0.001*np.exp(-(V+0.022) / 0.0105)\n",
    "    else:\n",
    "        return 0.001*np.exp(15*(V+0.467))"
   ]
  },
  {
   "cell_type": "code",
   "execution_count": 64,
   "metadata": {
    "collapsed": false
   },
   "outputs": [],
   "source": [
    "t = np.arange(0, 750, 0.01) #intervalo de tempo"
   ]
  },
  {
   "cell_type": "code",
   "execution_count": 65,
   "metadata": {},
   "outputs": [
    {
     "name": "stderr",
     "output_type": "stream",
     "text": [
      "C:\\Users\\rafae\\AppData\\Local\\Temp\\ipykernel_12272\\3445130032.py:5: RuntimeWarning: overflow encountered in exp\n",
      "  return (10**5 * (V+0.035)) / (1 - np.exp(-100*(V+0.035)))\n",
      "C:\\Users\\rafae\\AppData\\Local\\Temp\\ipykernel_12272\\3445130032.py:14: RuntimeWarning: overflow encountered in exp\n",
      "  def betam(V): return 4000*np.exp(-(V+0.06)/0.018)\n",
      "C:\\Users\\rafae\\AppData\\Local\\Temp\\ipykernel_12272\\3445130032.py:19: RuntimeWarning: overflow encountered in exp\n",
      "  def m_ti(V): return 1 / (1+np.exp(-(V+0.052) / 0.0074))\n",
      "C:\\Users\\rafae\\AppData\\Local\\Temp\\ipykernel_12272\\3445130032.py:12: RuntimeWarning: overflow encountered in exp\n",
      "  def alphah(V): return 350*np.exp(-50*(V+0.058))\n",
      "C:\\Users\\rafae\\AppData\\Local\\Temp\\ipykernel_12272\\3445130032.py:16: RuntimeWarning: overflow encountered in exp\n",
      "  def betah(V): return 5000 / (1 + np.exp(-100*(V+0.028)))\n",
      "C:\\Users\\rafae\\AppData\\Local\\Temp\\ipykernel_12272\\3445130032.py:10: RuntimeWarning: overflow encountered in exp\n",
      "  return (5 * 10**4 * (V+0.034)) / (1 - np.exp(-100*(V+0.034)))\n",
      "C:\\Users\\rafae\\AppData\\Local\\Temp\\ipykernel_12272\\3445130032.py:15: RuntimeWarning: overflow encountered in exp\n",
      "  def betan(V): return 625*np.exp(-12.5*(V+0.044))\n",
      "C:\\Users\\rafae\\AppData\\Local\\Temp\\ipykernel_12272\\633591455.py:15: RuntimeWarning: invalid value encountered in scalar multiply\n",
      "  dndt = alphan(V)*(1-n) - betan(V) * n\n",
      "C:\\Users\\rafae\\AppData\\Local\\Temp\\ipykernel_12272\\633591455.py:16: RuntimeWarning: divide by zero encountered in scalar divide\n",
      "  dh_tdt = (h_ti(V) - h_t) / t_ht(V)\n"
     ]
    }
   ],
   "source": [
    "def J_inj(t):\n",
    "    J_b = 20 * 10**-12\n",
    "    ti_base = 0\n",
    "    tf_base = 250\n",
    "    J_d = 10 * 10**-12\n",
    "    ti_degrau = 250\n",
    "    tf_degrau = 500\n",
    "    return J_b*(t>ti_base)-J_b*(t>tf_base)+J_d*(t>ti_degrau)-J_d*(t>tf_degrau)+J_b*(t>500)\n",
    "\n",
    "\n",
    "def dALLdt(X,t):\n",
    "    V, h, n, h_t = X\n",
    "    dVdt = (J_inj(t) - G_L*(V-E_L) - G_Na * m_i(V)**3 * h*(V-E_Na) - G_K * n**4 * (V-E_K) - G_T * m_ti(V)**2 * h_t*(V-E_Ca)) / C\n",
    "    dhdt = alphah(V)*(1-h) - betah(V) * h\n",
    "    dndt = alphan(V)*(1-n) - betan(V) * n\n",
    "    dh_tdt = (h_ti(V) - h_t) / t_ht(V)\n",
    "\n",
    "    return dVdt, dhdt, dndt, dh_tdt\n",
    "\n",
    "\n",
    "v0, h0, n0, h_t0 = -70, 0, 0, 0\n",
    "X = odeint(dALLdt, [v0, h0, n0, h_t0], t)\n",
    "V= X[:,0]\n",
    "h = X[:,1]\n",
    "n = X[:,2]\n",
    "h_t = X[:,3]\n",
    "J_valores = [J_base, J_degrau]"
   ]
  },
  {
   "cell_type": "code",
   "execution_count": 66,
   "metadata": {},
   "outputs": [
    {
     "data": {
      "text/plain": [
       "[<matplotlib.lines.Line2D at 0x1b180029040>]"
      ]
     },
     "execution_count": 66,
     "metadata": {},
     "output_type": "execute_result"
    },
    {
     "data": {
      "image/png": "[encoded data removed]",
      "text/plain": [
       "<Figure size 640x480 with 1 Axes>"
      ]
     },
     "metadata": {},
     "output_type": "display_data"
    }
   ],
   "source": [
    "plt.plot(t,V)"
   ]
  }
 ],
 "metadata": {
  "kernelspec": {
   "display_name": "Python 3.9.13 64-bit",
   "language": "python",
   "name": "python3"
  },
  "language_info": {
   "codemirror_mode": {
    "name": "ipython",
    "version": 3
   },
   "file_extension": ".py",
   "mimetype": "text/x-python",
   "name": "python",
   "nbconvert_exporter": "python",
   "pygments_lexer": "ipython3",
   "version": "3.9.13"
  },
  "vscode": {
   "interpreter": {
    "hash": "62ffe33b4b70e70e2ad7eabb350bd852d57ace81263fde7960940ad59587f0df"
   }
  }
 },
 "nbformat": 4,
 "nbformat_minor": 0
}
