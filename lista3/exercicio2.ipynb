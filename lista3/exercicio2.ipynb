{
 "cells": [
  {
   "cell_type": "code",
   "execution_count": 268,
   "metadata": {
    "collapsed": true
   },
   "outputs": [],
   "source": [
    "import matplotlib.pyplot as plt\n",
    "import numpy as np\n",
    "from scipy.integrate import odeint"
   ]
  },
  {
   "cell_type": "code",
   "execution_count": 269,
   "metadata": {
    "collapsed": false
   },
   "outputs": [],
   "source": [
    "#usando as unidades de medida do SI\n",
    "C = 100 * 10**-12\n",
    "G_L, E_L = 10 * 10**-9, -70 * 10**-3\n",
    "G_Na, E_Na = 3.6 * 10**-6, 55 * 10**-3\n",
    "G_K, E_K = 1.6 * 10**-6, -90 * 10**-3\n",
    "G_T, E_Ca = 0.22 * 10**-6, 120 * 10**-3"
   ]
  },
  {
   "cell_type": "code",
   "execution_count": 270,
   "metadata": {
    "collapsed": false
   },
   "outputs": [],
   "source": [
    "def alpham(V):\n",
    "    if V == (-0.035):\n",
    "        return 10**3 / np.exp(-100*(V+0.035))\n",
    "    else:\n",
    "        return (10**5 * (V+0.035)) / (1 - np.exp(-100*(V+0.035)))\n",
    "def alphan(V):\n",
    "    if V == (-0.034):\n",
    "        return (5 * 10**2) / np.exp(-100*(V+0.034))\n",
    "    else:\n",
    "        return (5 * 10**4 * (V+0.034)) / (1 - np.exp(-100*(V+0.034)))\n",
    "\n",
    "def alphah(V): return 350*np.exp(-50*(V+0.058))\n",
    "\n",
    "def betam(V): return 4000*np.exp(-(V+0.06)/0.018)\n",
    "def betan(V): return 625*np.exp(-12.5*(V+0.044))\n",
    "def betah(V): return 5000 / (1 + np.exp(-100*(V+0.028)))\n",
    "\n",
    "def m_i(V): return alpham(V) / (alpham(V) + betam(V))\n",
    "def m_ti(V): return 1 / (1+np.exp(-(V+0.052) / 0.0074))\n",
    "def h_ti(V): return 1 / (1+np.exp(500*(V+0.076)))\n",
    "\n",
    "def t_ht(V):\n",
    "    if V>=(-0.080):\n",
    "        return 0.028 + 0.001*np.exp(-(V+0.022) / 0.0105)\n",
    "    else:\n",
    "        return 0.001*np.exp(15*(V+0.467))"
   ]
  },
  {
   "cell_type": "code",
   "execution_count": 271,
   "metadata": {
    "collapsed": false
   },
   "outputs": [],
   "source": [
    "t = np.arange(0, 0.750, 0.00001) #intervalo de tempo"
   ]
  },
  {
   "cell_type": "code",
   "execution_count": 272,
   "metadata": {},
   "outputs": [],
   "source": [
    "def J_inj(t):\n",
    "    J_base = 1 * 10**-12\n",
    "    J_injetada = 50 * 10**-12\n",
    "    ti_base = 0\n",
    "    tf_base = 0.250\n",
    "    J_degrau = J_base + J_injetada\n",
    "    ti_degrau = 0.250\n",
    "    tf_degrau = 0.500\n",
    "    return J_base*(t>ti_base)-J_base*(t>tf_base)+J_degrau*(t>ti_degrau)-J_degrau*(t>tf_degrau)+J_base*(t>0.500)\n",
    "\n",
    "\n",
    "def dALLdt(X,t):\n",
    "    V, h, n, h_t = X\n",
    "    dVdt = (J_inj(t) - G_L*(V-E_L) - G_Na * m_i(V)**3 * h*(V-E_Na) - G_K * n**4 * (V-E_K) - G_T * m_ti(V)**2 * h_t*(V-E_Ca)) / C\n",
    "    dhdt = alphah(V)*(1-h) - betah(V) * h\n",
    "    dndt = alphan(V)*(1-n) - betan(V) * n\n",
    "    dh_tdt = (h_ti(V) - h_t) / t_ht(V)\n",
    "\n",
    "    return dVdt, dhdt, dndt, dh_tdt\n",
    "\n",
    "\n",
    "v0, h0, n0, h_t0 = -0.070, 0.89619, -0.06208, 1/(1+np.exp(3))\n",
    "X = odeint(dALLdt, [v0, h0, n0, h_t0], t)\n",
    "V = X[:,0]\n",
    "h = X[:,1]\n",
    "n = X[:,2]\n",
    "h_t = X[:,3]\n"
   ]
  }
 ],
 "metadata": {
  "kernelspec": {
   "display_name": "Python 3.9.13 64-bit",
   "language": "python",
   "name": "python3"
  },
  "language_info": {
   "codemirror_mode": {
    "name": "ipython",
    "version": 3
   },
   "file_extension": ".py",
   "mimetype": "text/x-python",
   "name": "python",
   "nbconvert_exporter": "python",
   "pygments_lexer": "ipython3",
   "version": "3.9.13"
  },
  "vscode": {
   "interpreter": {
    "hash": "62ffe33b4b70e70e2ad7eabb350bd852d57ace81263fde7960940ad59587f0df"
   }
  }
 },
 "nbformat": 4,
 "nbformat_minor": 0
}
