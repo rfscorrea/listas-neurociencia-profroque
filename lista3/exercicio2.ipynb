{
 "cells": [
  {
   "cell_type": "code",
   "execution_count": 5,
   "metadata": {
    "collapsed": true
   },
   "outputs": [
    {
     "name": "stderr",
     "output_type": "stream",
     "text": [
      "Matplotlib is building the font cache; this may take a moment.\n"
     ]
    }
   ],
   "source": [
    "import matplotlib.pyplot as plt\n",
    "import numpy as np\n",
    "from scipy.integrate import odeint"
   ]
  },
  {
   "cell_type": "code",
   "execution_count": 1,
   "metadata": {
    "collapsed": false
   },
   "outputs": [],
   "source": [
    "#usando as unidades de medida do SI\n",
    "C = 100 * 10**-12\n",
    "G_L, E_L = 10 * 10**-9, -70 * 10**-3\n",
    "G_Na, E_Na = 3.6 * 10**-6, 55 * 10**-3\n",
    "G_K, E_K = 1.6 * 10**-6, -90 * 10**-3\n",
    "G_T, E_Ca = 0.22 * 10**-6, 120 * 10**-3"
   ]
  },
  {
   "cell_type": "code",
   "execution_count": null,
   "metadata": {
    "collapsed": false
   },
   "outputs": [],
   "source": [
    "def alpham(V):\n",
    "    if V == (-0.035):\n",
    "        return 10**3 / np.exp(-100*(V+0.035))\n",
    "    else:\n",
    "        return (10**5 * (V+0.035)) / (1 - np.exp(-100*(V+0.035)))\n",
    "def alphan(V):\n",
    "    if V == (-0.034):\n",
    "        return (5 * 10**2) / np.exp(-100*(V+0.034))\n",
    "    else:\n",
    "        return (5 * 10**4 * (V+0.034)) / (1 - np.exp(-100*(V+0.034)))\n",
    "\n",
    "def alphah(V): return 350*np.exp(-50*(V+0.058))\n",
    "\n",
    "def betam(V): return 4000*np.exp(-(V+0.06)/0.018)\n",
    "def betan(V): return 625*np.exp(-12.5*(V+0.044))\n",
    "def betah(V): return 5000 / (1 + np.exp(-100*(V+0.028)))\n",
    "\n",
    "def m_i(V): return alpham(V) / (alpham(V) + betam(V))\n",
    "def m_ti(V): return 1 / (1+np.exp(-(V+0.052) / 0.0074))\n",
    "def h_ti(V): return 1 / (1+np.exp(500*(V+0.076)))\n",
    "\n",
    "def t_ht(V):\n",
    "    if V>=(-0.080):\n",
    "        return 0.028 + 0.001*np.exp(-(V+0.022) / 0.0105)\n",
    "    else:\n",
    "        return 0.001*np.exp(15*(V+0.467))"
   ]
  },
  {
   "cell_type": "code",
   "execution_count": null,
   "metadata": {
    "collapsed": false
   },
   "outputs": [],
   "source": [
    "N = 75000\n",
    "t = np.arange(0, 750, 0.01) #intervalo de tempo\n",
    "V = np.array(N+1, 201)\n",
    "h = np.array(N+1, 201)\n",
    "n = np.array(N+1, 201)\n",
    "h_t = np.array(N+1, 201)\n",
    "J_valores = np.array(N+1, 201)\n",
    "\n",
    "for i in range(201):\n",
    "    J_base = (-200 + i*2) * 10**-12\n",
    "    J_degrau = (i*0.5) * 10**-12\n",
    "\n",
    "    def J_inj(t):   #corrente injetada\n",
    "        J_b = J_base\n",
    "        ti_base = 0\n",
    "        tf_base = 250\n",
    "        J_d = J_degrau\n",
    "        ti_degrau = 250\n",
    "        tf_degrau = 500\n",
    "        return J_b*(t>ti_base)-J_b*(t>tf_base)+J_d*(t>ti_degrau)-J_d*(t>tf_degrau)+J_b*(t>500)\n",
    "\n",
    "\n",
    "    def dALLdt(X,t):\n",
    "        V, h, n, h_t = X\n",
    "        dVdt = (J_inj(t) - G_L*(V-E_L) - G_Na * m_i(V)**3 * h*(V-E_Na) - G_K * n**4 * (V-E_K) - G_T * m_ti(V)**2 * h_t*(V-E_Ca)) / C\n",
    "        dhdt = alphah(V)*(1-h) - betah(V) * h\n",
    "        dndt = alphan(V)*(1-n) - betan(V) * n\n",
    "        dh_tdt = (h_ti(V) - h_t) / t_ht(V)\n",
    "\n",
    "        return dVdt, dhdt, dndt, dh_tdt\n",
    "\n",
    "\n",
    "    v0, h0, n0, h_t0 = -70, 0, 0, 0\n",
    "    X = odeint(dALLdt, [v0, h0, n0, h_t0], t)\n",
    "    V[i] = X[:,0]\n",
    "    h[i] = X[:,1]\n",
    "    n[i] = X[:,2]\n",
    "    h_t[i] = X[:,3]\n",
    "    J_valores[i] = [J_base, J_degrau]"
   ]
  },
  {
   "cell_type": "code",
   "execution_count": null,
   "metadata": {
    "collapsed": false
   },
   "outputs": [],
   "source": [
    "plt.subplot(2,1,1)\n",
    "plt.plot(t, V, 'k')\n",
    "\n",
    "plt.subplot(2,1,2)\n",
    "plt.plot(t, n, 'r', label='n')\n",
    "plt.plot(t, h, 'g', label='h')\n",
    "plt.plot(t, h_t, 'b', label='ht')\n",
    "plt.legend()\n",
    "plt.show()"
   ]
  }
 ],
 "metadata": {
  "kernelspec": {
   "display_name": "Python 3.9.13 64-bit",
   "language": "python",
   "name": "python3"
  },
  "language_info": {
   "codemirror_mode": {
    "name": "ipython",
    "version": 3
   },
   "file_extension": ".py",
   "mimetype": "text/x-python",
   "name": "python",
   "nbconvert_exporter": "python",
   "pygments_lexer": "ipython3",
   "version": "3.9.13"
  },
  "vscode": {
   "interpreter": {
    "hash": "62ffe33b4b70e70e2ad7eabb350bd852d57ace81263fde7960940ad59587f0df"
   }
  }
 },
 "nbformat": 4,
 "nbformat_minor": 0
}
