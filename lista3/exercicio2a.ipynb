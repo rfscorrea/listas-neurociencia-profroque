{
 "cells": [
  {
   "cell_type": "code",
   "execution_count": null,
   "metadata": {
    "collapsed": true
   },
   "outputs": [],
   "source": [
    "import matplotlib.pyplot as plt\n",
    "import numpy as np\n",
    "from scipy.integrate import odeint"
   ]
  },
  {
   "cell_type": "code",
   "execution_count": null,
   "outputs": [],
   "source": [
    "C = 100\n",
    "G_L, E_L = 10, -70\n",
    "G_Na, E_Na = 3.6, 55\n",
    "G_K, E_K = 1.6, -90\n",
    "G_T, E_Ca = 0.22, 120"
   ],
   "metadata": {
    "collapsed": false
   }
  },
  {
   "cell_type": "code",
   "execution_count": null,
   "outputs": [],
   "source": [
    "def alpham(V):\n",
    "    if V == (-0.035):\n",
    "        return 10**3 / np.exp(-100*(V+0.035))\n",
    "    else:\n",
    "        return (10**5 * (V+0.035)) / (1 - np.exp(-100*(V+0.035)))\n",
    "def alphan(V):\n",
    "    if V == (-0.034):\n",
    "        return (5 * 10**2) / np.exp(-100*(V+0.034))\n",
    "    else:\n",
    "        return (5 * 10**4 * (V+0.034)) / (1 - np.exp(-100*(V+0.034)))\n",
    "\n",
    "def alphah(V): return 350*np.exp(-50*(V+0.058))\n",
    "\n",
    "def betam(V): return 4000*np.exp(-(V+0.06)/0.018)\n",
    "def betan(V): return 625*np.exp(-12.5*(V+0.044))\n",
    "def betah(V): return 5000 / (1 + np.exp(-100*(V+0.028)))\n",
    "\n",
    "def m_i(V): return alpham(V) / (alpham(V) + betam(V))\n",
    "def m_ti(V): return 1 / (1+np.exp(-(V+0.052) / 0.0074))\n",
    "def h_ti(V): return 1 / (1+np.exp(500*(V+0.076)))\n",
    "\n",
    "def t_ht(V):\n",
    "    if V>=(-0.080):\n",
    "        return 0.028 + 0.001*np.exp(-(V+0.022) / 0.0105)\n",
    "    else:\n",
    "        return 0.001*np.exp(15*(V+0.467))"
   ],
   "metadata": {
    "collapsed": false
   }
  },
  {
   "cell_type": "code",
   "execution_count": null,
   "outputs": [],
   "source": [
    "t = np.arange(0, 750, 0.01) #intervalo de tempo\n",
    "\n",
    "def J_inj(t):   #corrente injetada\n",
    "    J_base = -50\n",
    "    ti_base = 0\n",
    "    tf_base = 250\n",
    "    J_degrau = 15\n",
    "    ti_degrau = 250\n",
    "    tf_degrau = 500\n",
    "    return J_base*(t>ti_base)-J_base*(t>tf_base)+J_degrau*(t>ti_degrau)-J_degrau*(t>tf_degrau)+J_base*(t>500)\n",
    "\n",
    "\n",
    "def dALLdt(X,t):\n",
    "    V, h, n, h_t = X\n",
    "    dVdt = (J_inj(t) - G_L*(V-E_L) - G_Na * m_i(V)**3 * h*(V-E_Na) - G_K * n**4 * (V-E_K) - G_T * m_ti(V)**2 * h_t*(V-E_Ca)) / C\n",
    "    dhdt = alphah(V)*(1-h) - betah(V) * h\n",
    "    dndt = alphan(V)*(1-n) - betan(V) * n\n",
    "    dh_tdt = (h_ti(V) - h_t) / t_ht(V)\n",
    "\n",
    "    return dVdt, dhdt, dndt, dh_tdt"
   ],
   "metadata": {
    "collapsed": false
   }
  },
  {
   "cell_type": "code",
   "execution_count": null,
   "outputs": [],
   "source": [
    "v0, h0, n0, h_t0 = -70, 0, 0, 0\n",
    "X = odeint(dALLdt, [v0, h0, n0, h_t0], t)\n",
    "V = X[:,0]\n",
    "h = X[:,1]\n",
    "n = X[:,2]\n",
    "h_t = X[:,3]"
   ],
   "metadata": {
    "collapsed": false
   }
  },
  {
   "cell_type": "code",
   "execution_count": null,
   "outputs": [],
   "source": [
    "plt.subplot(2,1,1)\n",
    "plt.plot(t, V, 'k')\n",
    "\n",
    "plt.subplot(2,1,2)\n",
    "plt.plot(t, n, 'r', label='n')\n",
    "plt.plot(t, h, 'g', label='h')\n",
    "plt.plot(t, h_t, 'b', label='ht')\n",
    "plt.legend()\n",
    "plt.show()"
   ],
   "metadata": {
    "collapsed": false
   }
  }
 ],
 "metadata": {
  "kernelspec": {
   "display_name": "Python 3",
   "language": "python",
   "name": "python3"
  },
  "language_info": {
   "codemirror_mode": {
    "name": "ipython",
    "version": 2
   },
   "file_extension": ".py",
   "mimetype": "text/x-python",
   "name": "python",
   "nbconvert_exporter": "python",
   "pygments_lexer": "ipython2",
   "version": "2.7.6"
  }
 },
 "nbformat": 4,
 "nbformat_minor": 0
}
