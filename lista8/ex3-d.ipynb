{
 "cells": [
  {
   "cell_type": "code",
   "execution_count": 1,
   "metadata": {
    "collapsed": true,
    "ExecuteTime": {
     "end_time": "2023-07-24T16:16:48.466690500Z",
     "start_time": "2023-07-24T16:16:47.755200700Z"
    }
   },
   "outputs": [],
   "source": [
    "from numpy import arange, zeros, tanh\n",
    "import matplotlib.pyplot as plt\n",
    "import neuronioO\n",
    "import neuronioI\n",
    "import neuronioE"
   ]
  },
  {
   "cell_type": "code",
   "execution_count": 2,
   "outputs": [],
   "source": [
    "def dsdt(v, s, tau_s, tau_d):\n",
    "    eq = (1+tanh(v/4))/2  * (1-s)/tau_s - s/tau_d\n",
    "    return eq"
   ],
   "metadata": {
    "collapsed": false,
    "ExecuteTime": {
     "end_time": "2023-07-24T16:16:48.476148500Z",
     "start_time": "2023-07-24T16:16:48.466690500Z"
    }
   }
  },
  {
   "cell_type": "code",
   "execution_count": 3,
   "outputs": [],
   "source": [
    "plt.style.use('bmh')"
   ],
   "metadata": {
    "collapsed": false,
    "ExecuteTime": {
     "end_time": "2023-07-24T16:16:48.605705400Z",
     "start_time": "2023-07-24T16:16:48.476148500Z"
    }
   }
  },
  {
   "cell_type": "code",
   "execution_count": 4,
   "outputs": [],
   "source": [
    "tmax = 1000\n",
    "dt = 0.001\n",
    "N = round(tmax/dt)\n",
    "t = arange(0, tmax, dt)"
   ],
   "metadata": {
    "collapsed": false,
    "ExecuteTime": {
     "end_time": "2023-07-24T16:16:48.715654700Z",
     "start_time": "2023-07-24T16:16:48.605705400Z"
    }
   }
  },
  {
   "cell_type": "code",
   "execution_count": 5,
   "outputs": [],
   "source": [
    "VI1, hI1, nI1, sI1 = zeros(N),zeros(N),zeros(N),zeros(N)\n",
    "VI1[0] = -70\n",
    "hI1[0] = neuronioI.alpha('h', VI1[0]) / (neuronioI.alpha('h',VI1[0])+neuronioI.beta('h',VI1[0]))\n",
    "nI1[0] = neuronioI.alpha('n', VI1[0]) / (neuronioI.alpha('n',VI1[0])+neuronioI.beta('n',VI1[0]))"
   ],
   "metadata": {
    "collapsed": false,
    "ExecuteTime": {
     "end_time": "2023-07-24T16:16:48.823087300Z",
     "start_time": "2023-07-24T16:16:48.715654700Z"
    }
   }
  },
  {
   "cell_type": "code",
   "execution_count": 6,
   "outputs": [],
   "source": [
    "VI2, hI2, nI2, sI2 = zeros(N),zeros(N),zeros(N),zeros(N)\n",
    "VI2[0] = -67.5\n",
    "hI2[0] = neuronioI.alpha('h', VI2[0]) / (neuronioI.alpha('h',VI2[0])+neuronioI.beta('h',VI2[0]))\n",
    "nI2[0] = neuronioI.alpha('n', VI2[0]) / (neuronioI.alpha('n',VI2[0])+neuronioI.beta('n',VI2[0]))"
   ],
   "metadata": {
    "collapsed": false,
    "ExecuteTime": {
     "end_time": "2023-07-24T16:16:48.946186600Z",
     "start_time": "2023-07-24T16:16:48.823087300Z"
    }
   }
  },
  {
   "cell_type": "code",
   "execution_count": 7,
   "outputs": [],
   "source": [
    "VI3, hI3, nI3, sI3 = zeros(N),zeros(N),zeros(N),zeros(N)\n",
    "VI3[0] = -65\n",
    "hI3[0] = neuronioI.alpha('h', VI3[0]) / (neuronioI.alpha('h',VI3[0])+neuronioI.beta('h',VI3[0]))\n",
    "nI3[0] = neuronioI.alpha('n', VI3[0]) / (neuronioI.alpha('n',VI3[0])+neuronioI.beta('n',VI3[0]))"
   ],
   "metadata": {
    "collapsed": false,
    "ExecuteTime": {
     "end_time": "2023-07-24T16:16:49.057596200Z",
     "start_time": "2023-07-24T16:16:48.961820100Z"
    }
   }
  },
  {
   "cell_type": "code",
   "execution_count": 8,
   "outputs": [],
   "source": [
    "VI4, hI4, nI4, sI4 = zeros(N),zeros(N),zeros(N),zeros(N)\n",
    "VI4[0] = -62.5\n",
    "hI4[0] = neuronioI.alpha('h', VI4[0]) / (neuronioI.alpha('h',VI4[0])+neuronioI.beta('h',VI4[0]))\n",
    "nI4[0] = neuronioI.alpha('n', VI4[0]) / (neuronioI.alpha('n',VI4[0])+neuronioI.beta('n',VI4[0]))"
   ],
   "metadata": {
    "collapsed": false,
    "ExecuteTime": {
     "end_time": "2023-07-24T16:16:49.164052Z",
     "start_time": "2023-07-24T16:16:49.057596200Z"
    }
   }
  },
  {
   "cell_type": "code",
   "execution_count": 9,
   "outputs": [],
   "source": [
    "VI5, hI5, nI5, sI5 = zeros(N),zeros(N),zeros(N),zeros(N)\n",
    "VI5[0] = -60\n",
    "hI5[0] = neuronioI.alpha('h', VI5[0]) / (neuronioI.alpha('h',VI5[0])+neuronioI.beta('h',VI5[0]))\n",
    "nI5[0] = neuronioI.alpha('n', VI5[0]) / (neuronioI.alpha('n',VI5[0])+neuronioI.beta('n',VI5[0]))"
   ],
   "metadata": {
    "collapsed": false,
    "ExecuteTime": {
     "end_time": "2023-07-24T16:16:49.269594800Z",
     "start_time": "2023-07-24T16:16:49.179687400Z"
    }
   }
  },
  {
   "cell_type": "code",
   "execution_count": 10,
   "outputs": [],
   "source": [
    "VO1, mO1, hO1, nO1, aO1, bO1, rO1, sO1= zeros(N),zeros(N),zeros(N),zeros(N),zeros(N),zeros(N),zeros(N),zeros(N)\n",
    "VO1[0] = -75.61\n",
    "mO1[0] = 0.0122\n",
    "hO1[0] = 0.9152\n",
    "nO1[0] = 0.07561\n",
    "aO1[0] = 0.0229\n",
    "bO1[0] = 0.2843\n",
    "rO1[0] = 0.06123"
   ],
   "metadata": {
    "collapsed": false,
    "ExecuteTime": {
     "end_time": "2023-07-24T16:16:49.371031500Z",
     "start_time": "2023-07-24T16:16:49.269594800Z"
    }
   }
  },
  {
   "cell_type": "code",
   "execution_count": 11,
   "outputs": [],
   "source": [
    "VE, hE, nE, sE = zeros(N),zeros(N),zeros(N),zeros(N)\n",
    "VE[0] = -60\n",
    "hE[0] = neuronioE.alpha('h', VE[0]) / (neuronioE.alpha('h',VE[0])+neuronioE.beta('h',VE[0]))\n",
    "nE[0] = neuronioE.alpha('n', VE[0]) / (neuronioE.alpha('n',VE[0])+neuronioE.beta('n',VE[0]))"
   ],
   "metadata": {
    "collapsed": false,
    "ExecuteTime": {
     "end_time": "2023-07-24T16:16:49.505667700Z",
     "start_time": "2023-07-24T16:16:49.371031500Z"
    }
   }
  },
  {
   "cell_type": "code",
   "execution_count": 12,
   "outputs": [],
   "source": [
    "gii = 0.02\n",
    "goi = 0\n",
    "gio = 0.12\n",
    "gie = 0.1\n",
    "goe = 0.15\n",
    "gei = 0.05\n",
    "geo = 0.01"
   ],
   "metadata": {
    "collapsed": false,
    "ExecuteTime": {
     "end_time": "2023-07-24T16:16:49.643743500Z",
     "start_time": "2023-07-24T16:16:49.521310900Z"
    }
   }
  },
  {
   "cell_type": "code",
   "execution_count": 13,
   "outputs": [
    {
     "name": "stdout",
     "output_type": "stream",
     "text": [
      ". . . . . . . . . . 100000/1000000\n",
      ". . . . . . . . . 200000/1000000\n",
      ". . . . . . . . . 300000/1000000\n",
      ". . . . . . . . . 400000/1000000\n",
      ". . . . . . . . . 500000/1000000\n",
      ". . . . . . . . . 600000/1000000\n",
      ". . . . . . . . . 700000/1000000\n",
      ". . . . . . . . . 800000/1000000\n",
      ". . . . . . . . . 900000/1000000\n",
      ". . . . . . . . . "
     ]
    },
    {
     "data": {
      "text/plain": "<Figure size 640x480 with 1 Axes>",
      "image/png": "[encoded data removed]"
     },
     "metadata": {},
     "output_type": "display_data"
    }
   ],
   "source": [
    "plt.figure()\n",
    "plt.axis(ymin=0, ymax=12, xmin=30, xmax=1000)\n",
    "\n",
    "for k in range(N-1):\n",
    "    taus, taud = 0.3, 9\n",
    "    # neuronio I-1\n",
    "    jsin = 5*gii*sI1[k]*(-80-VI1[k]) + 5*goi*(-80-VI1[k])*sO1[k]+ gei*sE[k]*(-VI1[k])\n",
    "    VI1[k+1] = VI1[k] + dt * neuronioI.dvdt(VI1[k], hI1[k], nI1[k], 0.8, jsin)\n",
    "    hI1[k+1] = hI1[k] + dt * neuronioI.dhdt(VI1[k], hI1[k])\n",
    "    nI1[k+1] = nI1[k] + dt * neuronioI.dndt(VI1[k], nI1[k])\n",
    "    sI1[k+1] = sI1[k] + dt * dsdt(VI1[k], sI1[k], taus, taud)\n",
    "    if VI1[k+1] >= 0 > VI1[k]:\n",
    "        plt.plot(t[k], 1, 'ko')\n",
    "        plt.plot(t[k], 2, 'ko')\n",
    "        plt.plot(t[k], 3, 'ko')\n",
    "        plt.plot(t[k], 4, 'ko')\n",
    "        plt.plot(t[k], 5, 'ko')\n",
    "\n",
    "     # neuronios 0\n",
    "    taus, taud = 0.2, 20\n",
    "    jsin = 5*gio*sI1[k]*(-80-VO1[k]) + geo*sE[k]*(-VO1[k])\n",
    "    VO1[k+1] = VO1[k] + dt * neuronioO.dvdt(VO1[k],mO1[k],hO1[k],nO1[k],aO1[k],bO1[k],rO1[k], -3, jsin)\n",
    "    mO1[k+1] = mO1[k] + dt * neuronioO.dmdt(VO1[k],mO1[k])\n",
    "    hO1[k+1] = hO1[k] + dt * neuronioO.dhdt(VO1[k],hO1[k])\n",
    "    nO1[k+1] = nO1[k] + dt * neuronioO.dndt(VO1[k],nO1[k])\n",
    "    aO1[k+1] = aO1[k] + dt * neuronioO.dadt(VO1[k],aO1[k])\n",
    "    bO1[k+1] = bO1[k] + dt * neuronioO.dbdt(VO1[k],bO1[k])\n",
    "    rO1[k+1] = rO1[k] + dt * neuronioO.drdt(VO1[k],rO1[k])\n",
    "    sO1[k+1] = sO1[k] + dt * dsdt(VO1[k],sO1[k], taus, taud)\n",
    "    if VO1[k+1] >= 0 > VO1[k]:\n",
    "        plt.plot(t[k], 6, 'k+')\n",
    "        plt.plot(t[k], 7, 'k+')\n",
    "        plt.plot(t[k], 8, 'k+')\n",
    "        plt.plot(t[k], 9, 'k+')\n",
    "        plt.plot(t[k], 10, 'k+')\n",
    "\n",
    "    # neurônio E\n",
    "    taus, taud = 0.1, 3\n",
    "    jsin = gie * sI1[k] * (-80-VE[k]) + goe*(-80-VE[k])*sO1[k]\n",
    "    VE[k+1] = VE[k] + dt * neuronioE.dvdt(VE[k], hE[k], nE[k], 0.8, jsin)\n",
    "    hE[k+1] = hE[k] + dt * neuronioE.dhdt(VE[k], hE[k])\n",
    "    nE[k+1] = nE[k] + dt * neuronioE.dndt(VE[k], nE[k])\n",
    "    sE[k+1] = sE[k] + dt * dsdt(VE[k], sE[k], taus, taud)\n",
    "\n",
    "    if VE[k+1] >= 0 > VE[k]:\n",
    "        plt.plot(t[k], 11, 'kv')\n",
    "\n",
    "    if k%100000 == 0 and k!=0:\n",
    "        print(f'{k}/{N}')\n",
    "    elif k%10000 == 0:\n",
    "        print(f'.', end=' ')\n",
    "\n",
    "plt.show()"
   ],
   "metadata": {
    "collapsed": false,
    "ExecuteTime": {
     "end_time": "2023-07-24T16:23:06.359619100Z",
     "start_time": "2023-07-24T16:16:49.643743500Z"
    }
   }
  }
 ],
 "metadata": {
  "kernelspec": {
   "display_name": "Python 3",
   "language": "python",
   "name": "python3"
  },
  "language_info": {
   "codemirror_mode": {
    "name": "ipython",
    "version": 2
   },
   "file_extension": ".py",
   "mimetype": "text/x-python",
   "name": "python",
   "nbconvert_exporter": "python",
   "pygments_lexer": "ipython2",
   "version": "2.7.6"
  }
 },
 "nbformat": 4,
 "nbformat_minor": 0
}
