{
 "cells": [
  {
   "cell_type": "code",
   "execution_count": 1,
   "metadata": {
    "collapsed": true,
    "ExecuteTime": {
     "end_time": "2023-07-24T09:41:50.009309Z",
     "start_time": "2023-07-24T09:41:48.714061600Z"
    }
   },
   "outputs": [],
   "source": [
    "from numpy import arange, zeros, tanh\n",
    "import matplotlib.pyplot as plt\n",
    "import neuronioE\n",
    "import neuronioI"
   ]
  },
  {
   "cell_type": "code",
   "execution_count": 2,
   "outputs": [],
   "source": [
    "plt.style.use('bmh')"
   ],
   "metadata": {
    "collapsed": false,
    "ExecuteTime": {
     "end_time": "2023-07-24T09:41:50.024940Z",
     "start_time": "2023-07-24T09:41:49.995727400Z"
    }
   }
  },
  {
   "cell_type": "code",
   "execution_count": 3,
   "outputs": [],
   "source": [
    "tmax = 1000\n",
    "dt = 0.001\n",
    "N = round(tmax/dt)\n",
    "t = arange(0, tmax, dt)"
   ],
   "metadata": {
    "collapsed": false,
    "ExecuteTime": {
     "end_time": "2023-07-24T09:41:50.098161900Z",
     "start_time": "2023-07-24T09:41:50.009309Z"
    }
   }
  },
  {
   "cell_type": "code",
   "execution_count": 4,
   "outputs": [],
   "source": [
    "VI1, hI1, nI1, sI1 = zeros(N),zeros(N),zeros(N),zeros(N)\n",
    "VI1[0] = -70\n",
    "hI1[0] = neuronioI.alpha('h', VI1[0]) / (neuronioI.alpha('h',VI1[0])+neuronioI.beta('h',VI1[0]))\n",
    "nI1[0] = neuronioI.alpha('n', VI1[0]) / (neuronioI.alpha('n',VI1[0])+neuronioI.beta('n',VI1[0]))\n",
    "\n",
    "VO1, mO1, hO1, nO1, aO1, bO1, rO1, sO1= zeros(N),zeros(N),zeros(N),zeros(N),zeros(N),zeros(N),zeros(N),zeros(N)\n",
    "VO1[0] = -65\n",
    "mO1[0] = 0\n",
    "hO1[0] = 0\n",
    "nO1[0] = 0\n",
    "aO1[0] = 0\n",
    "bO1[0] = 0\n",
    "rO1[0] = 0"
   ],
   "metadata": {
    "collapsed": false,
    "ExecuteTime": {
     "end_time": "2023-07-24T09:41:50.206313900Z",
     "start_time": "2023-07-24T09:41:50.098161900Z"
    }
   }
  },
  {
   "cell_type": "code",
   "execution_count": 5,
   "outputs": [],
   "source": [
    "VI2, hI2, nI2, sI2 = zeros(N),zeros(N),zeros(N),zeros(N)\n",
    "VI2[0] = -67.5\n",
    "hI2[0] = neuronioI.alpha('h', VI2[0]) / (neuronioI.alpha('h',VI2[0])+neuronioI.beta('h',VI2[0]))\n",
    "nI2[0] = neuronioI.alpha('n', VI2[0]) / (neuronioI.alpha('n',VI2[0])+neuronioI.beta('n',VI2[0]))\n",
    "\n",
    "VO2, mO2, hO2, nO2, aO2, bO2, rO2, sO2= zeros(N),zeros(N),zeros(N),zeros(N),zeros(N),zeros(N),zeros(N),zeros(N)\n",
    "VO2[0] = -65\n",
    "mO2[0] = 0\n",
    "hO2[0] = 0\n",
    "nO2[0] = 0\n",
    "aO2[0] = 0\n",
    "bO2[0] = 0\n",
    "rO2[0] = 0"
   ],
   "metadata": {
    "collapsed": false,
    "ExecuteTime": {
     "end_time": "2023-07-24T09:41:50.302363Z",
     "start_time": "2023-07-24T09:41:50.206313900Z"
    }
   }
  },
  {
   "cell_type": "code",
   "execution_count": 6,
   "outputs": [],
   "source": [
    "VI3, hI3, nI3, sI3 = zeros(N),zeros(N),zeros(N),zeros(N)\n",
    "VI3[0] = -65\n",
    "hI3[0] = neuronioI.alpha('h', VI3[0]) / (neuronioI.alpha('h',VI3[0])+neuronioI.beta('h',VI3[0]))\n",
    "nI3[0] = neuronioI.alpha('n', VI3[0]) / (neuronioI.alpha('n',VI3[0])+neuronioI.beta('n',VI3[0]))\n",
    "\n",
    "VO3, mO3, hO3, nO3, aO3, bO3, rO3, sO3= zeros(N),zeros(N),zeros(N),zeros(N),zeros(N),zeros(N),zeros(N),zeros(N)\n",
    "VO3[0] = -65\n",
    "mO3[0] = 0\n",
    "hO3[0] = 0\n",
    "nO3[0] = 0\n",
    "aO3[0] = 0\n",
    "bO3[0] = 0\n",
    "rO3[0] = 0"
   ],
   "metadata": {
    "collapsed": false,
    "ExecuteTime": {
     "end_time": "2023-07-24T09:41:50.383756300Z",
     "start_time": "2023-07-24T09:41:50.302363Z"
    }
   }
  },
  {
   "cell_type": "code",
   "execution_count": 7,
   "outputs": [],
   "source": [
    "VI4, hI4, nI4, sI4 = zeros(N),zeros(N),zeros(N),zeros(N)\n",
    "VI4[0] = -62.5\n",
    "hI4[0] = neuronioI.alpha('h', VI4[0]) / (neuronioI.alpha('h',VI4[0])+neuronioI.beta('h',VI4[0]))\n",
    "nI4[0] = neuronioI.alpha('n', VI4[0]) / (neuronioI.alpha('n',VI4[0])+neuronioI.beta('n',VI4[0]))\n",
    "\n",
    "VO4, mO4, hO4, nO4, aO4, bO4, rO4, sO4= zeros(N),zeros(N),zeros(N),zeros(N),zeros(N),zeros(N),zeros(N),zeros(N)\n",
    "VO4[0] = -65\n",
    "mO4[0] = 0\n",
    "hO4[0] = 0\n",
    "nO4[0] = 0\n",
    "aO4[0] = 0\n",
    "bO4[0] = 0\n",
    "rO4[0] = 0"
   ],
   "metadata": {
    "collapsed": false,
    "ExecuteTime": {
     "end_time": "2023-07-24T09:41:50.484850Z",
     "start_time": "2023-07-24T09:41:50.383756300Z"
    }
   }
  },
  {
   "cell_type": "code",
   "execution_count": 8,
   "outputs": [],
   "source": [
    "VI5, hI5, nI5, sI5 = zeros(N),zeros(N),zeros(N),zeros(N)\n",
    "VI5[0] = -60\n",
    "hI5[0] = neuronioI.alpha('h', VI5[0]) / (neuronioI.alpha('h',VI5[0])+neuronioI.beta('h',VI5[0]))\n",
    "nI5[0] = neuronioI.alpha('n', VI5[0]) / (neuronioI.alpha('n',VI5[0])+neuronioI.beta('n',VI5[0]))\n",
    "\n",
    "VO5, mO5, hO5, nO5, aO5, bO5, rO5, sO5= zeros(N),zeros(N),zeros(N),zeros(N),zeros(N),zeros(N),zeros(N),zeros(N)\n",
    "VO5[0] = -65\n",
    "mO5[0] = 0\n",
    "hO5[0] = 0\n",
    "nO5[0] = 0\n",
    "aO5[0] = 0\n",
    "bO5[0] = 0\n",
    "rO5[0] = 0"
   ],
   "metadata": {
    "collapsed": false,
    "ExecuteTime": {
     "end_time": "2023-07-24T09:41:50.571135200Z",
     "start_time": "2023-07-24T09:41:50.484850Z"
    }
   }
  }
 ],
 "metadata": {
  "kernelspec": {
   "display_name": "Python 3",
   "language": "python",
   "name": "python3"
  },
  "language_info": {
   "codemirror_mode": {
    "name": "ipython",
    "version": 2
   },
   "file_extension": ".py",
   "mimetype": "text/x-python",
   "name": "python",
   "nbconvert_exporter": "python",
   "pygments_lexer": "ipython2",
   "version": "2.7.6"
  }
 },
 "nbformat": 4,
 "nbformat_minor": 0
}
