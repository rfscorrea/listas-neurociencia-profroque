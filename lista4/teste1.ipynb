{
 "cells": [
  {
   "cell_type": "code",
   "execution_count": 49,
   "metadata": {
    "collapsed": true,
    "ExecuteTime": {
     "end_time": "2023-06-18T14:12:37.176664300Z",
     "start_time": "2023-06-18T14:12:37.146768700Z"
    }
   },
   "outputs": [],
   "source": [
    "import numpy as np\n",
    "import matplotlib.pyplot as plt\n",
    "from scipy.integrate import odeint"
   ]
  },
  {
   "cell_type": "code",
   "execution_count": 50,
   "outputs": [],
   "source": [
    "#variaveis de gating soma\n",
    "def gating_soma(Vs):\n",
    "    alpha_h = 128*np.exp(-(Vs+0.043) / 0.018)\n",
    "    beta_h = 4e3/(1+np.exp(-200*(Vs+0.020)))\n",
    "    beta_n = 250*np.exp(-25*(Vs+0.040))\n",
    "\n",
    "    if Vs == -0.0469:\n",
    "        alpha_m = 320/0.25\n",
    "    else:\n",
    "        alpha_m = ( 320*1e3*(Vs+0.0469) ) / (1-np.exp(-250*(Vs+0.0469)))\n",
    "\n",
    "    if Vs == -0.0249:\n",
    "        alpha_n = 16/0.2\n",
    "    else:\n",
    "        alpha_n = ( 16e3*(Vs+0.0249) ) / (1-np.exp(-200*(Vs+0.0249)))\n",
    "\n",
    "    if Vs == -19.9:\n",
    "        beta_m = 280/0.2\n",
    "    else:\n",
    "        beta_m = (280e3*(Vs+0.0199))/(np.exp(200*(Vs+0.0199))-1)\n",
    "\n",
    "    return alpha_m, alpha_h, alpha_n, beta_m, beta_h, beta_n"
   ],
   "metadata": {
    "collapsed": false,
    "ExecuteTime": {
     "end_time": "2023-06-18T14:12:37.207644900Z",
     "start_time": "2023-06-18T14:12:37.167669900Z"
    }
   }
  },
  {
   "cell_type": "code",
   "execution_count": 51,
   "outputs": [],
   "source": [
    "#variaveis de gating dendrito\n",
    "def gating_dend(Vd, Ca):\n",
    "    alpha_mca = 1600/(1+np.exp(-72*(Vd-0.005)))\n",
    "    alpha_mkahp = min(20,20e3*Ca)\n",
    "    beta_mkahp = 4\n",
    "\n",
    "    if Vd == -0.0089:\n",
    "        beta_mca = 20/0.2\n",
    "    else:\n",
    "        beta_mca = 20e3*(Vd+0.0089)/(np.exp(200*(Vd+0.0089))-1)\n",
    "\n",
    "    if Vd > -0.010:\n",
    "        alpha_mkca = 2e3*np.exp(-(0.0535+Vd)/0.027)\n",
    "        beta_mkca = 0\n",
    "    else:\n",
    "        alpha_mkca = np.exp( (Vd+0.050) / 0.011 - (Vd+0.0535) / 0.027 ) / 0.018975\n",
    "        beta_mkca = (2e3*np.exp(-(0.0535+Vd)/0.027) - alpha_mkca)\n",
    "\n",
    "    return alpha_mca, alpha_mkca, alpha_mkahp, beta_mca, beta_mkca, beta_mkahp"
   ],
   "metadata": {
    "collapsed": false,
    "ExecuteTime": {
     "end_time": "2023-06-18T14:12:37.218637600Z",
     "start_time": "2023-06-18T14:12:37.201649200Z"
    }
   }
  },
  {
   "cell_type": "code",
   "execution_count": 52,
   "outputs": [],
   "source": [
    "E_L = -0.060   # leak reversal potential\n",
    "E_Na = 0.060   # reversal for sodium channels\n",
    "E_K = -0.075   # reversal for potassium channels\n",
    "E_Ca = 0.080   # reversal for calcium channels\n",
    "\n",
    "p = 1/3\n",
    "\n",
    "# Conductance values for somatic channels follow\n",
    "G_LS = 5e-9*p     # somatic leak conductance in Siemens\n",
    "G_Na = 3e-6*p    # sodium conductance (Soma)\n",
    "G_K = 2e-6*p     # potassium conductance (Soma)\n",
    "\n",
    "# Conductance values for dendritic channels follow\n",
    "G_LD = 5e-9*(1-p)       # dendritic leak conductance in Siemens\n",
    "G_Ca = 2e-6*(1-p)          # calcium conductance (Dendrite)\n",
    "G_KAHP = 0.04e-6*(1-p)     # Potassium conductance to generate after-hyperpolarization\n",
    "G_KCa = 2.5e-6*(1-p)     # calcium-dependent Potassium conductance\n",
    "\n",
    "G_Link = 20e-9 # conductance linking dendrite and soma\n",
    "\n",
    "tau_Ca = 50e-3              # time constant for buffering of calcium\n",
    "convert_Ca = 0.25e7/(1-p)    # conversion changing calcium charge entry per unit area into concentration\n",
    "\n",
    "CmS = 100e-12*p     # somatic membrane capacitance in Farads\n",
    "CmD = 100e-12*(1-p)       # dendritic membrane capacitance in Farads"
   ],
   "metadata": {
    "collapsed": false,
    "ExecuteTime": {
     "end_time": "2023-06-18T14:12:37.256615500Z",
     "start_time": "2023-06-18T14:12:37.229633200Z"
    }
   }
  },
  {
   "cell_type": "code",
   "execution_count": 53,
   "outputs": [],
   "source": [
    "t = np.arange(0, 2, 0.00005)\n",
    "IS_inj = 0e-12\n",
    "ID_inj = 0e-12\n",
    "\n",
    "def dALLdt(X,t):\n",
    "    Vs, Vd, Ca, m, h, n, mca, mkca, mkahp = X\n",
    "\n",
    "    alpha_m, alpha_h, alpha_n, beta_m, beta_h, beta_n = gating_soma(Vs)\n",
    "    alpha_mca, alpha_mkca, alpha_mkahp, beta_mca, beta_mkca, beta_mkahp = gating_dend(Vd, Ca)\n",
    "\n",
    "    IS_L = G_LS * (E_L - Vs)\n",
    "    I_Na = G_Na * m**2 * h * (E_Na - Vs)\n",
    "    I_K = G_K * n**2 * (E_K - Vs)\n",
    "    I_c = G_Link * (Vd-Vs)\n",
    "\n",
    "    ID_L = G_LD * (E_L - Vd)\n",
    "    I_Ca = G_Ca * mca**2 * (E_Ca - Vd)\n",
    "    I_KCa = G_KCa * mkca * min(4000*Ca, 1) * (E_K - Vd)\n",
    "    I_KAHP = G_KAHP * mkahp * (E_K - Vd)\n",
    "\n",
    "\n",
    "    dmdt = alpha_m * (1 - m) - beta_m * m\n",
    "    dhdt = alpha_h * (1 - h) - beta_h * h\n",
    "    dndt = alpha_n * (1 - n) - beta_n * n\n",
    "    dmcadt = alpha_mca * (1 - mca) - beta_mca * mca\n",
    "    dmkcadt = alpha_mkca * (1 - mkca) - beta_mkca * mkca\n",
    "    dmkahpdt = alpha_mkahp * (1 - mkahp) - beta_mkahp * mkahp\n",
    "\n",
    "    dVsdt = (IS_inj + IS_L + I_Na + I_K + I_c) / CmS\n",
    "    dVddt = (ID_inj + ID_L + I_Ca + I_KCa + I_KAHP - I_c) / CmD\n",
    "\n",
    "    dCadt = convert_Ca*I_Ca - (Ca/tau_Ca)\n",
    "\n",
    "    return dVsdt, dVddt, dCadt, dmdt, dhdt, dndt, dmcadt, dmkcadt, dmkahpdt"
   ],
   "metadata": {
    "collapsed": false,
    "ExecuteTime": {
     "end_time": "2023-06-18T14:12:37.284598100Z",
     "start_time": "2023-06-18T14:12:37.250619Z"
    }
   }
  },
  {
   "cell_type": "code",
   "execution_count": 54,
   "outputs": [],
   "source": [
    "val0 = [-0.06, -0.06, 0, 0, 0.5, 0.4, 0, 0.2, 0.2]\n",
    "\n",
    "X = odeint(dALLdt, val0, t)\n",
    "Vs = X[:,0]\n",
    "Vd = X[:,1]\n",
    "Ca = X[:,2]\n",
    "m = X[:,3]\n",
    "h = X[:,4]\n",
    "n = X[:,5]\n",
    "mca = X[:,6]\n",
    "mkca = X[:,7]\n",
    "mkahp = X[:,8]"
   ],
   "metadata": {
    "collapsed": false,
    "ExecuteTime": {
     "end_time": "2023-06-18T14:12:38.479881900Z",
     "start_time": "2023-06-18T14:12:37.281600400Z"
    }
   }
  },
  {
   "cell_type": "code",
   "execution_count": 57,
   "outputs": [
    {
     "data": {
      "text/plain": "<Figure size 640x480 with 2 Axes>",
      "image/png": "[encoded data removed]"
     },
     "metadata": {},
     "output_type": "display_data"
    }
   ],
   "source": [
    "plt.subplot(2,1,1)\n",
    "plt.plot(t, Vs*1000, 'k')\n",
    "plt.ylabel('Vs (mV)')\n",
    "\n",
    "plt.subplot(2,1,2)\n",
    "plt.plot(t, Vd*1000, 'k')\n",
    "plt.ylabel('Vd (mV)')\n",
    "plt.xlabel('t (s)')\n",
    "plt.show()"
   ],
   "metadata": {
    "collapsed": false,
    "ExecuteTime": {
     "end_time": "2023-06-18T14:14:09.187371300Z",
     "start_time": "2023-06-18T14:14:08.597653Z"
    }
   }
  },
  {
   "cell_type": "code",
   "execution_count": 55,
   "outputs": [],
   "source": [],
   "metadata": {
    "collapsed": false,
    "ExecuteTime": {
     "end_time": "2023-06-18T14:12:39.162830500Z",
     "start_time": "2023-06-18T14:12:39.086510400Z"
    }
   }
  }
 ],
 "metadata": {
  "kernelspec": {
   "display_name": "Python 3",
   "language": "python",
   "name": "python3"
  },
  "language_info": {
   "codemirror_mode": {
    "name": "ipython",
    "version": 2
   },
   "file_extension": ".py",
   "mimetype": "text/x-python",
   "name": "python",
   "nbconvert_exporter": "python",
   "pygments_lexer": "ipython2",
   "version": "2.7.6"
  }
 },
 "nbformat": 4,
 "nbformat_minor": 0
}
