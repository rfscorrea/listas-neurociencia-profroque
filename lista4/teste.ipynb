{
 "cells": [
  {
   "cell_type": "code",
   "execution_count": 2,
   "metadata": {
    "collapsed": true,
    "ExecuteTime": {
     "end_time": "2023-06-18T10:55:26.738453800Z",
     "start_time": "2023-06-18T10:55:25.413407100Z"
    }
   },
   "outputs": [],
   "source": [
    "import matplotlib.pyplot as plt\n",
    "import numpy as np"
   ]
  },
  {
   "cell_type": "code",
   "execution_count": 3,
   "outputs": [],
   "source": [
    "#variaveis de gating soma\n",
    "\n",
    "def gating_soma(Vs):\n",
    "    alpha_h = 128*np.exp(-(Vs+0.043) / 0.018)\n",
    "    beta_h = 4e3/(1+np.exp(-200*(Vs+0.020)))\n",
    "    beta_n = 250*np.exp(-25*(Vs+0.040))\n",
    "\n",
    "    if Vs == -0.0469:\n",
    "        alpha_m = 320/0.25\n",
    "    else:\n",
    "        alpha_m = ( 320*1e3*(Vs+0.0469) ) / (1-np.exp(-250*(Vs+0.0469)))\n",
    "\n",
    "    if Vs == -0.0249:\n",
    "        alpha_n = 16/0.2\n",
    "    else:\n",
    "        alpha_n = ( 16e3*(Vs+0.0249) ) / (1-np.exp(-200*(Vs+0.0249)))\n",
    "\n",
    "    if Vs == -19.9:\n",
    "        beta_m = 280/0.2\n",
    "    else:\n",
    "        beta_m = (280e3*(Vs+0.0199))/(np.exp(200*(Vs+0.0199))-1)\n",
    "\n",
    "    return alpha_m, alpha_h, alpha_n, beta_m, beta_h, beta_n"
   ],
   "metadata": {
    "collapsed": false,
    "ExecuteTime": {
     "end_time": "2023-06-18T10:55:26.756443700Z",
     "start_time": "2023-06-18T10:55:26.738453800Z"
    }
   }
  },
  {
   "cell_type": "code",
   "execution_count": 4,
   "outputs": [],
   "source": [
    "#variaveis de gating dendrito\n",
    "\n",
    "def gating_dend(Vd, Ca):\n",
    "    alpha_mca = 1600/(1+np.exp(-72*(Vd-0.005)))\n",
    "    alpha_mkahp = min(20,20e3*Ca)\n",
    "    beta_mkahp = 4\n",
    "\n",
    "    if Vd == -0.0089:\n",
    "        beta_mca = 20/0.2\n",
    "    else:\n",
    "        beta_mca = 20e3*(Vd+0.0089)/(np.exp(200*(Vd+0.0089))-1)\n",
    "\n",
    "    if Vd > -0.010:\n",
    "        alpha_mkca = 2e3*np.exp(-(0.0535+Vd)/0.027)\n",
    "        beta_mkca = 0\n",
    "    else:\n",
    "        alpha_mkca = np.exp( (Vd+0.050) / 0.011 - (Vd+0.0535) / 0.027 ) / 0.018975\n",
    "        beta_mkca = (2e3*np.exp(-(0.0535+Vd)/0.027) - alpha_mkca)\n",
    "\n",
    "    return alpha_mca, alpha_mkca, alpha_mkahp, beta_mca, beta_mkca, beta_mkahp"
   ],
   "metadata": {
    "collapsed": false,
    "ExecuteTime": {
     "end_time": "2023-06-18T10:55:26.786365300Z",
     "start_time": "2023-06-18T10:55:26.764438300Z"
    }
   }
  },
  {
   "cell_type": "code",
   "execution_count": null,
   "outputs": [],
   "source": [
    "dt = 10e-6\n",
    "tmax=2\n",
    "\n",
    "E_L = -0.060   # leak reversal potential\n",
    "E_Na = 0.060   # reversal for sodium channels\n",
    "E_K = -0.075   # reversal for potassium channels\n",
    "E_Ca = 0.080   # reversal for calcium channels\n",
    "\n",
    "S_frac = 1/3        # fraction of total membrane area that is soma\n",
    "D_frac = 1-S_frac   # rest of area is dendritic\n",
    "\n",
    "# Conductance values for somatic channels follow\n",
    "G_LS = 5e-9*S_frac     # somatic leak conductance in Siemens\n",
    "G_Na = 3e-6*S_frac     # sodium conductance (Soma)\n",
    "G_K = 2e-6*S_frac      # potassium conductance (Soma)\n",
    "\n",
    "# Conductance values for dendritic channels follow\n",
    "G_LD = 5e-9*D_frac         # dendritic leak conductance in Siemens\n",
    "G_Ca = 2e-6*D_frac         # calcium conductance (Dendrite)\n",
    "G_KAHP = 0.04e-6*D_frac    # Potassium conductance to generate after-hyperpolarization\n",
    "G_KCa = 2.5e-6*D_frac      # calcium-dependent Potassium conductance\n",
    "\n",
    "G_Link = 20e-9 # conductance linking dendrite and soma\n",
    "\n",
    "tau_Ca = 50e-3              # time constant for buffering of calcium\n",
    "convert_Ca = 0.25e7/D_frac  # conversion changing calcium charge entry per unit area into concentration\n",
    "\n",
    "CmS = 100e-12*S_frac     # somatic membrane capacitance in Farads\n",
    "CmD = 100e-12*D_frac     # dendritic membrane capacitance in Farads"
   ],
   "metadata": {
    "collapsed": false
   }
  },
  {
   "cell_type": "code",
   "execution_count": null,
   "outputs": [],
   "source": [
    "t = np.arange(0, tmax, dt)           # time vector\n",
    "VS=np.zeros(np.size(t))     # somatic voltage vector\n",
    "VD=np.zeros(np.size(t))     # dendritic voltage vector\n",
    "VS[1] = E_L           # set the inititial value of somatic voltage\n",
    "VD[1] = E_L           # set the inititial value of dendritic voltage\n",
    "\n",
    "\n",
    "Ca = np.zeros(np.size(t))  # dendritic calcium level (extra Ca above base level)\n",
    "Ca[1] = 0          # initialize with no (extra) Ca in cell.\n",
    "\n",
    "I_LD = np.zeros(np.size(t))        # leak current in dendrite\n",
    "I_LS = np.zeros(np.size(t))        # leak current in soma\n",
    "I_Na = np.zeros(np.size(t))       # sodium current (soma)\n",
    "I_K = zeros(size(t))        # potassium current (soma)\n",
    "I_Ca = zeros(size(t))       # calcium current (dendrite)\n",
    "I_KAHP = zeros(size(t))     # after-hyperpolarization current (dendrite)\n",
    "I_KCa = zeros(size(t))      # calcium-dependent potassium current (dendrite)\n",
    "\n",
    "n=zeros(size(t))   # n: potassium activation gating variable\n",
    "m=zeros(size(t))   # m: sodium activation gating variable\n",
    "h=zeros(size(t))   # h: sodim inactivation gating variplot(t,V)able\n",
    "n(1) = 0.4         # initialize near steady state at resting potential\n",
    "h(1) = 0.5         # initialize near steady state at resting potential\n",
    "\n",
    "mca=zeros(size(t))     # Ca current activation gating variable\n",
    "mkca=zeros(size(t))    # K_Ca current activation gating variable\n",
    "mkahp = zeros(size(t)) # K_AHP current activation gating variable\n",
    "mkahp(1) = 0.2        # initialize near steady state at resting potential\n",
    "mkca(1) = 0.2          # initialize near steady state at resting potential\n",
    "Ca(1) = 1e-6           # initialize near steady state at resting potential\n",
    "\n",
    "Itot=zeros(size(t))     # in case we want to plot and look at the total current"
   ],
   "metadata": {
    "collapsed": false
   }
  }
 ],
 "metadata": {
  "kernelspec": {
   "display_name": "Python 3",
   "language": "python",
   "name": "python3"
  },
  "language_info": {
   "codemirror_mode": {
    "name": "ipython",
    "version": 2
   },
   "file_extension": ".py",
   "mimetype": "text/x-python",
   "name": "python",
   "nbconvert_exporter": "python",
   "pygments_lexer": "ipython2",
   "version": "2.7.6"
  }
 },
 "nbformat": 4,
 "nbformat_minor": 0
}
