{
 "cells": [
  {
   "cell_type": "code",
   "execution_count": 13,
   "metadata": {
    "collapsed": true,
    "ExecuteTime": {
     "end_time": "2023-06-15T04:37:23.285107700Z",
     "start_time": "2023-06-15T04:37:23.234138400Z"
    }
   },
   "outputs": [],
   "source": [
    "import numpy as np\n",
    "import matplotlib.pyplot as plt\n",
    "from scipy.integrate import odeint"
   ]
  },
  {
   "cell_type": "code",
   "execution_count": 14,
   "outputs": [],
   "source": [
    "#valores iniciais\n",
    "p = 1/3\n",
    "GS_L, GD_L = p*5*10**-9, (1-p)*5*10**-9    #S\n",
    "G_Na, G_K, G_Ca, G_KCa = p*3*10**-6, p*2*10**-6, (1-p)*2*10**-6, (1-p)*2.5*10**-6  #S\n",
    "G_KAHP, G_c = (1-p)*40*10**-9 , 20*10**-9   #S\n",
    "E_Na, E_K, E_Ca, E_L = 60*10**-3, -75*10**-3, 80*10**-3, -60*10**-3 #V\n",
    "CS, CD = p*100*10**-12, (1-p)*100*10**-12 #F\n",
    "tca = 50*10**-3  #s\n",
    "k = (2.5 * 10**6) / (1-p)   #M/C"
   ],
   "metadata": {
    "collapsed": false,
    "ExecuteTime": {
     "end_time": "2023-06-15T04:37:23.287105Z",
     "start_time": "2023-06-15T04:37:23.259123500Z"
    }
   }
  },
  {
   "cell_type": "code",
   "execution_count": 15,
   "outputs": [],
   "source": [
    "#variaveis de gating\n",
    "\n",
    "#soma\n",
    "def m_inf(Vs):\n",
    "    return alpha_m(Vs) / (alpha_m(Vs) + beta_m(Vs))\n",
    "\n",
    "def h_inf(Vs):\n",
    "    return alpha_h(Vs) / (alpha_h(Vs) + beta_h(Vs))\n",
    "\n",
    "def n_inf(Vs):\n",
    "    return alpha_n(Vs) / (alpha_n(Vs) + beta_n(Vs))\n",
    "\n",
    "def t_m(Vs):\n",
    "    return 1 / (alpha_m(Vs) + beta_m(Vs))\n",
    "\n",
    "def t_h(Vs):\n",
    "    return 1 / (alpha_h(Vs) + beta_h(Vs))\n",
    "\n",
    "def t_n(Vs):\n",
    "    return 1 / (alpha_n(Vs) + beta_n(Vs))\n",
    "\n",
    "def alpha_m(Vs):\n",
    "    if Vs == -0.0469:\n",
    "        return 320000 / 250*np.exp(-250*(Vs+0.0469))\n",
    "    else:\n",
    "        return (320 * 10**3 * (Vs + 0.0469)) / (1 - np.exp(-250*(Vs+0.0469)))\n",
    "\n",
    "def alpha_h(Vs):\n",
    "    return 128*np.exp(-55.556*(Vs+0.043))\n",
    "\n",
    "def alpha_n(Vs):\n",
    "    if Vs == -0.0249:\n",
    "        return 16000 / 200*np.exp(-200*(Vs+0.0249))\n",
    "    else:\n",
    "        return (16 * 10**3 * (Vs+0.0249)) / (1 - np.exp(-200*(Vs+0.0249)))\n",
    "\n",
    "def beta_m(Vs):\n",
    "    if Vs == -0.0199:\n",
    "        return 280000 / 200*np.exp(200*(Vs+0.0199))\n",
    "    else:\n",
    "        return 280 * 10**3 * (Vs+0.0199) / (np.exp(200*(Vs+0.0199)) - 1)\n",
    "\n",
    "def beta_h(Vs):\n",
    "    return 4000 / (1 + np.exp(-200*(Vs+0.020)))\n",
    "\n",
    "def beta_n(Vs):\n",
    "    return 250 * np.exp(-25*(Vs+0.040))\n",
    "\n",
    "\n",
    "#dendrito\n",
    "def alpha_mca(Vd):\n",
    "    return 1600 / (1+np.exp(-72*(Vd-0.005)))\n",
    "\n",
    "def alpha_mkca(Vd):\n",
    "    if Vd > -0.010:\n",
    "        return 2000*np.exp(-37.037*(Vd+0.0535))\n",
    "    elif Vd <= -0.010:\n",
    "        return np.exp( ((Vd+0.050)/0.011) - ((Vd+0.0535)/0.027)) / 0.018975\n",
    "\n",
    "def chi(Ca):\n",
    "    return min(4000*Ca, 1)\n",
    "\n",
    "def alpha_mkahp(Ca):\n",
    "    return min(20, 20000*Ca)\n",
    "\n",
    "def beta_mca(Vd):\n",
    "    if Vd == -0.0089:\n",
    "        return 20000 / 200*np.exp(200*(Vs+0.0089))\n",
    "    else:\n",
    "        return 2 * 10**4 * (Vd + 0.0089) / (np.exp(200*(Vd+0.0089)) - 1)\n",
    "\n",
    "def beta_mkca(Vd):\n",
    "    if Vd > -0.010:\n",
    "        return 0\n",
    "    elif Vd <= -0.010:\n",
    "        return 2000*np.exp(-(Vd+0.0535)/0.027) - alpha_mkca(Vd)\n",
    "\n",
    "def mca_inf(Vd):\n",
    "    return alpha_mca(Vd) / (alpha_mca(Vd) + beta_mca(Vd))\n",
    "\n",
    "def mkca_inf(Vd):\n",
    "    return alpha_mkca(Vd) / (alpha_mkca(Vd) + beta_mkca(Vd))\n",
    "\n",
    "def mkahp_inf(Vd):\n",
    "    return alpha_mkahp(Vd) / (alpha_mkahp(Vd) + beta_mkahp(Vd))\n",
    "\n",
    "def t_mca(Vd):\n",
    "    return 1 / (alpha_mca(Vd) + beta_mca(Vd))\n",
    "\n",
    "def t_mkca(Vd):\n",
    "    return 1 / (alpha_mkca(Vd) + beta_mkca(Vd))\n",
    "\n",
    "def t_mkahp(Vd, Ca):\n",
    "    return 1 / (alpha_mkahp(Ca) + beta_mkahp(Vd))\n",
    "\n",
    "def beta_mkahp(Vd):\n",
    "    return 4"
   ],
   "metadata": {
    "collapsed": false,
    "ExecuteTime": {
     "end_time": "2023-06-15T04:37:23.319757300Z",
     "start_time": "2023-06-15T04:37:23.269117Z"
    }
   }
  },
  {
   "cell_type": "code",
   "execution_count": 16,
   "outputs": [],
   "source": [
    "#intervalo de tempo\n",
    "t = np.arange(0, 2, 0.05)\n",
    "\n",
    "#corrente dentrito\n",
    "def ID_inj(t):\n",
    "    I = 0\n",
    "    ti = 0\n",
    "    tf = 2\n",
    "    return I*(t>ti)-I*(t>tf)\n",
    "\n",
    "#corrente soma\n",
    "def IS_inj(t):\n",
    "    I = 0\n",
    "    ti = 0\n",
    "    tf = 2\n",
    "    return I*(t>ti)-I*(t>tf)\n",
    "\n",
    "#equacoes do modelo\n",
    "def dALLdt(X, t):\n",
    "    Vs, Vd, Ca, m, h, n, mca, mkca, mkahp = X\n",
    "    dVsdt = (IS_inj(t) - GS_L * (Vs-E_L) - G_Na * m**2 * h*(Vs-E_Na) - G_K * n**2 *(Vs-E_K) + G_c * (Vd-Vs)) / CS\n",
    "    dVddt = (ID_inj(t) - GD_L*(Vd-E_L) - G_Ca * mca**2 * (Vd-E_Ca) - G_KCa * mkca * chi(Ca) * (Vd-E_K) - G_KAHP * mkahp * (Vd-E_K) + G_c * (Vs-Vd)) / CD\n",
    "    dCadt = -(Ca/tca) - k*G_Ca * mca**2 * (Vd-E_Ca)\n",
    "    dmdt = (m_inf(Vs) - m) / t_m(Vs)\n",
    "    dhdt = (h_inf(Vs) - h) / t_h(Vs)\n",
    "    dndt = (n_inf(Vs) - n) / t_n(Vs)\n",
    "    dmcadt = (mca_inf(Vd) - mca) / t_mca(Vd)\n",
    "    dmkcadt = (mkca_inf(Vd) - mkca) / t_mkca(Vd)\n",
    "    dmkahpdt = (mkahp_inf(Vd) - mkahp) / t_mkahp(Vd, Ca)\n",
    "\n",
    "    return dVsdt, dVddt, dCadt, dmdt, dhdt, dndt, dmcadt, dmkcadt, dmkahpdt"
   ],
   "metadata": {
    "collapsed": false,
    "ExecuteTime": {
     "end_time": "2023-06-15T04:37:23.350366700Z",
     "start_time": "2023-06-15T04:37:23.326753800Z"
    }
   }
  },
  {
   "cell_type": "code",
   "execution_count": 17,
   "outputs": [],
   "source": [
    "#solucoes com valores iniciais\n",
    "X = odeint(dALLdt, [-60*10**-3, -60*10**-3, 0, 0, 0.5, 0.4, 0, 0.2, 0.2], t)\n",
    "Vs = X[:,0]\n",
    "Vd = X[:,1]\n",
    "Ca = X[:,2]\n",
    "m = X[:,3]\n",
    "h = X[:,4]\n",
    "n = X[:,5]\n",
    "mca = X[:,6]\n",
    "mkca = X[:,7]\n",
    "mkahp = X[:,8]"
   ],
   "metadata": {
    "collapsed": false,
    "ExecuteTime": {
     "end_time": "2023-06-15T04:37:23.476362400Z",
     "start_time": "2023-06-15T04:37:23.353365300Z"
    }
   }
  },
  {
   "cell_type": "code",
   "execution_count": 18,
   "outputs": [
    {
     "data": {
      "text/plain": "<Figure size 640x480 with 2 Axes>",
      "image/png": "[encoded data removed]"
     },
     "metadata": {},
     "output_type": "display_data"
    }
   ],
   "source": [
    "plt.subplot(2,1,1)\n",
    "plt.plot(t, Vs*1000, 'k')\n",
    "plt.ylabel('Vs (mv)')\n",
    "\n",
    "plt.subplot(2,1,2)\n",
    "plt.plot(t, Vd*1000, 'k')\n",
    "plt.xlabel('t(s)')\n",
    "plt.ylabel('Vd (mv)')\n",
    "plt.show()"
   ],
   "metadata": {
    "collapsed": false,
    "ExecuteTime": {
     "end_time": "2023-06-15T04:37:24.331832600Z",
     "start_time": "2023-06-15T04:37:23.477361700Z"
    }
   }
  },
  {
   "cell_type": "markdown",
   "source": [],
   "metadata": {
    "collapsed": false
   }
  }
 ],
 "metadata": {
  "kernelspec": {
   "display_name": "Python 3",
   "language": "python",
   "name": "python3"
  },
  "language_info": {
   "codemirror_mode": {
    "name": "ipython",
    "version": 2
   },
   "file_extension": ".py",
   "mimetype": "text/x-python",
   "name": "python",
   "nbconvert_exporter": "python",
   "pygments_lexer": "ipython2",
   "version": "2.7.6"
  }
 },
 "nbformat": 4,
 "nbformat_minor": 0
}
