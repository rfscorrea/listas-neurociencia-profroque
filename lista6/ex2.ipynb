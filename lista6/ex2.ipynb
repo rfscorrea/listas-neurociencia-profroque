{
 "cells": [
  {
   "cell_type": "code",
   "execution_count": 2,
   "metadata": {
    "collapsed": true,
    "ExecuteTime": {
     "end_time": "2023-07-04T11:34:37.525513500Z",
     "start_time": "2023-07-04T11:34:35.443890300Z"
    }
   },
   "outputs": [],
   "source": [
    "import numpy as np\n",
    "import matplotlib.pyplot as plt\n",
    "from scipy.integrate import odeint"
   ]
  },
  {
   "cell_type": "code",
   "execution_count": 6,
   "outputs": [],
   "source": [
    "V_rep = -70e-3 #V\n",
    "R = 40e6  #Ohm\n",
    "C = 250e-12 #F\n",
    "V_L = -50e-3   #V\n",
    "V_redef = -65e-3   #V\n",
    "tau_ref = 2e-3     #s\n",
    "dt = 0.01e-3   #s\n",
    "tmax = 2    #s\n",
    "V0 = V_rep  #V\n",
    "\n",
    "I_L = ( V_L - V_rep ) / R   #A\n",
    "\n",
    "valores_corrente = np.arange(I_L - 100e-12, I_L + 400e-12, 10e-12)\n",
    "valores_frequenciaNumerica = np.zeros(np.size(valores_corrente))\n",
    "valores_frequenciaAnalitica = np.zeros(np.size(valores_corrente))\n",
    "\n",
    "t = np.arange(0, tmax, dt)\n",
    "\n",
    "interacoes = 200000\n",
    "limiar = np.full(200000, V_L)\n",
    "\n",
    "sigma = 0"
   ],
   "metadata": {
    "collapsed": false,
    "ExecuteTime": {
     "end_time": "2023-07-04T11:34:59.196990100Z",
     "start_time": "2023-07-04T11:34:59.184999800Z"
    }
   }
  },
  {
   "cell_type": "code",
   "execution_count": 4,
   "outputs": [],
   "source": [
    "w_n = 0\n",
    "\n",
    "def solucao(v0, dt, interacoes, I, t):\n",
    "    disparos = 0\n",
    "\n",
    "\n",
    "    V = np.zeros(interacoes)\n",
    "    V[0] = v0\n",
    "\n",
    "    for i in range(interacoes-1):\n",
    "        v = V[i]\n",
    "        if v >= V_L:\n",
    "            v = V_redef\n",
    "            disparos += 1\n",
    "\n",
    "        V[i+1] = v + (1/C*R * (V_rep - v) + I/C)*dt + sigma*w_n * np.square(dt)\n",
    "\n",
    "    return V, disparos"
   ],
   "metadata": {
    "collapsed": false,
    "ExecuteTime": {
     "end_time": "2023-07-04T11:34:37.562492900Z",
     "start_time": "2023-07-04T11:34:37.546501300Z"
    }
   }
  },
  {
   "cell_type": "code",
   "execution_count": 5,
   "outputs": [
    {
     "ename": "UnboundLocalError",
     "evalue": "local variable 'w_n' referenced before assignment",
     "output_type": "error",
     "traceback": [
      "\u001B[1;31m---------------------------------------------------------------------------\u001B[0m",
      "\u001B[1;31mUnboundLocalError\u001B[0m                         Traceback (most recent call last)",
      "Cell \u001B[1;32mIn[5], line 4\u001B[0m\n\u001B[0;32m      1\u001B[0m \u001B[38;5;28;01mfor\u001B[39;00m i \u001B[38;5;129;01min\u001B[39;00m \u001B[38;5;28mrange\u001B[39m(np\u001B[38;5;241m.\u001B[39msize(valores_corrente)):\n\u001B[0;32m      2\u001B[0m     I \u001B[38;5;241m=\u001B[39m valores_corrente[i]\n\u001B[1;32m----> 4\u001B[0m     V, disparos \u001B[38;5;241m=\u001B[39m \u001B[43msolucao\u001B[49m\u001B[43m(\u001B[49m\u001B[43mV0\u001B[49m\u001B[43m,\u001B[49m\u001B[43m \u001B[49m\u001B[43mdt\u001B[49m\u001B[43m,\u001B[49m\u001B[43m \u001B[49m\u001B[43minteracoes\u001B[49m\u001B[43m,\u001B[49m\u001B[43m \u001B[49m\u001B[43mI\u001B[49m\u001B[43m,\u001B[49m\u001B[43m \u001B[49m\u001B[43mt\u001B[49m\u001B[43m)\u001B[49m\n\u001B[0;32m      6\u001B[0m     \u001B[38;5;28;01mif\u001B[39;00m I \u001B[38;5;241m>\u001B[39m\u001B[38;5;241m=\u001B[39m I_L:\n\u001B[0;32m      7\u001B[0m         intervaloDisparos \u001B[38;5;241m=\u001B[39m tau_ref \u001B[38;5;241m+\u001B[39m  C\u001B[38;5;241m*\u001B[39mR \u001B[38;5;241m*\u001B[39m np\u001B[38;5;241m.\u001B[39mlog( (V_rep \u001B[38;5;241m+\u001B[39m R\u001B[38;5;241m*\u001B[39mI \u001B[38;5;241m-\u001B[39m V_redef) \u001B[38;5;241m/\u001B[39m (V_rep \u001B[38;5;241m+\u001B[39m R\u001B[38;5;241m*\u001B[39mI \u001B[38;5;241m-\u001B[39m V_L) )\n",
      "Cell \u001B[1;32mIn[4], line 4\u001B[0m, in \u001B[0;36msolucao\u001B[1;34m(v0, dt, interacoes, I, t)\u001B[0m\n\u001B[0;32m      1\u001B[0m \u001B[38;5;28;01mdef\u001B[39;00m \u001B[38;5;21msolucao\u001B[39m(v0, dt, interacoes, I, t):\n\u001B[0;32m      2\u001B[0m     disparos \u001B[38;5;241m=\u001B[39m \u001B[38;5;241m0\u001B[39m\n\u001B[1;32m----> 4\u001B[0m     w_n \u001B[38;5;241m=\u001B[39m \u001B[43mw_n\u001B[49m()\n\u001B[0;32m      6\u001B[0m     V \u001B[38;5;241m=\u001B[39m np\u001B[38;5;241m.\u001B[39mzeros(interacoes)\n\u001B[0;32m      7\u001B[0m     V[\u001B[38;5;241m0\u001B[39m] \u001B[38;5;241m=\u001B[39m v0\n",
      "\u001B[1;31mUnboundLocalError\u001B[0m: local variable 'w_n' referenced before assignment"
     ]
    }
   ],
   "source": [
    "for i in range(np.size(valores_corrente)):\n",
    "    I = valores_corrente[i]\n",
    "\n",
    "    V, disparos = solucao(V0, dt, interacoes, I, t)\n",
    "\n",
    "    if I >= I_L:\n",
    "        intervaloDisparos = tau_ref +  C*R * np.log( (V_rep + R*I - V_redef) / (V_rep + R*I - V_L) )\n",
    "        frequenciaAnalitica = 1 / intervaloDisparos\n",
    "    else:\n",
    "        frequenciaAnalitica = 0\n",
    "\n",
    "    frequenciaNumerica = disparos / tmax\n",
    "\n",
    "\n",
    "    valores_frequenciaNumerica[i] = frequenciaNumerica\n",
    "    valores_frequenciaAnalitica[i] = frequenciaAnalitica"
   ],
   "metadata": {
    "collapsed": false,
    "ExecuteTime": {
     "end_time": "2023-07-04T11:34:37.648469900Z",
     "start_time": "2023-07-04T11:34:37.565492400Z"
    }
   }
  },
  {
   "cell_type": "code",
   "execution_count": null,
   "outputs": [],
   "source": [
    "plt.style.use('bmh')\n",
    "\n",
    "plt.figure()\n",
    "plt.plot(valores_corrente*1e12, valores_frequenciaNumerica, label='Solução numérica')\n",
    "plt.plot(valores_corrente*1e12, valores_frequenciaAnalitica, label='Solução analítica')\n",
    "plt.legend()\n",
    "\n",
    "plt.ylabel('Freq (Hz)')\n",
    "plt.xlabel('I (pA)')\n",
    "\n",
    "\n",
    "plt.show()"
   ],
   "metadata": {
    "collapsed": false
   }
  },
  {
   "cell_type": "code",
   "execution_count": null,
   "outputs": [],
   "source": [],
   "metadata": {
    "collapsed": false
   }
  }
 ],
 "metadata": {
  "kernelspec": {
   "display_name": "Python 3",
   "language": "python",
   "name": "python3"
  },
  "language_info": {
   "codemirror_mode": {
    "name": "ipython",
    "version": 2
   },
   "file_extension": ".py",
   "mimetype": "text/x-python",
   "name": "python",
   "nbconvert_exporter": "python",
   "pygments_lexer": "ipython2",
   "version": "2.7.6"
  }
 },
 "nbformat": 4,
 "nbformat_minor": 0
}
